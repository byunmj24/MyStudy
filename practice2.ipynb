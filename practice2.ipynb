{
  "nbformat": 4,
  "nbformat_minor": 0,
  "metadata": {
    "colab": {
      "name": "Untitled5.ipynb",
      "provenance": [],
      "authorship_tag": "ABX9TyO0BMVGUfpIM0sgRLmw2AhP",
      "include_colab_link": true
    },
    "kernelspec": {
      "name": "python3",
      "display_name": "Python 3"
    }
  },
  "cells": [
    {
      "cell_type": "markdown",
      "metadata": {
        "id": "view-in-github",
        "colab_type": "text"
      },
      "source": [
        "<a href=\"https://colab.research.google.com/github/byunmj24/MyStudy/blob/master/practice2.ipynb\" target=\"_parent\"><img src=\"https://colab.research.google.com/assets/colab-badge.svg\" alt=\"Open In Colab\"/></a>"
      ]
    },
    {
      "cell_type": "code",
      "metadata": {
        "id": "g_SI78kCOYTb"
      },
      "source": [
        "import pandas as pd\n",
        "import numpy as np\n",
        "import matplotlib.pyplot as plt\n",
        "%matplotlib inline\n",
        "import seaborn as sns"
      ],
      "execution_count": 2,
      "outputs": []
    },
    {
      "cell_type": "code",
      "metadata": {
        "id": "JFoSAD-RP2TN"
      },
      "source": [
        "dau = pd.read_csv('dau.csv', engine='python')\n",
        "user = pd.read_csv('user_info.csv', engine='python')"
      ],
      "execution_count": 3,
      "outputs": []
    },
    {
      "cell_type": "code",
      "metadata": {
        "id": "WsKUEtzfQRQG",
        "outputId": "99026020-58b8-4855-d1cd-790886e7ba45",
        "colab": {
          "base_uri": "https://localhost:8080/",
          "height": 618
        }
      },
      "source": [
        "dau.info()\n",
        "dau[:5]\n",
        "user.info()\n",
        "user[:5]"
      ],
      "execution_count": 4,
      "outputs": [
        {
          "output_type": "stream",
          "text": [
            "<class 'pandas.core.frame.DataFrame'>\n",
            "RangeIndex: 170360 entries, 0 to 170359\n",
            "Data columns (total 3 columns):\n",
            " #   Column    Non-Null Count   Dtype \n",
            "---  ------    --------------   ----- \n",
            " 0   log_date  170360 non-null  object\n",
            " 1   app_name  170360 non-null  object\n",
            " 2   user_id   170360 non-null  int64 \n",
            "dtypes: int64(1), object(2)\n",
            "memory usage: 3.9+ MB\n",
            "<class 'pandas.core.frame.DataFrame'>\n",
            "RangeIndex: 49526 entries, 0 to 49525\n",
            "Data columns (total 6 columns):\n",
            " #   Column        Non-Null Count  Dtype \n",
            "---  ------        --------------  ----- \n",
            " 0   install_date  49526 non-null  object\n",
            " 1   app_name      49526 non-null  object\n",
            " 2   user_id       49526 non-null  int64 \n",
            " 3   gender        49526 non-null  object\n",
            " 4   generation    49526 non-null  int64 \n",
            " 5   device_type   49526 non-null  object\n",
            "dtypes: int64(2), object(4)\n",
            "memory usage: 2.3+ MB\n"
          ],
          "name": "stdout"
        },
        {
          "output_type": "execute_result",
          "data": {
            "text/html": [
              "<div>\n",
              "<style scoped>\n",
              "    .dataframe tbody tr th:only-of-type {\n",
              "        vertical-align: middle;\n",
              "    }\n",
              "\n",
              "    .dataframe tbody tr th {\n",
              "        vertical-align: top;\n",
              "    }\n",
              "\n",
              "    .dataframe thead th {\n",
              "        text-align: right;\n",
              "    }\n",
              "</style>\n",
              "<table border=\"1\" class=\"dataframe\">\n",
              "  <thead>\n",
              "    <tr style=\"text-align: right;\">\n",
              "      <th></th>\n",
              "      <th>install_date</th>\n",
              "      <th>app_name</th>\n",
              "      <th>user_id</th>\n",
              "      <th>gender</th>\n",
              "      <th>generation</th>\n",
              "      <th>device_type</th>\n",
              "    </tr>\n",
              "  </thead>\n",
              "  <tbody>\n",
              "    <tr>\n",
              "      <th>0</th>\n",
              "      <td>2019-04-15</td>\n",
              "      <td>game-01</td>\n",
              "      <td>1</td>\n",
              "      <td>M</td>\n",
              "      <td>40</td>\n",
              "      <td>iOS</td>\n",
              "    </tr>\n",
              "    <tr>\n",
              "      <th>1</th>\n",
              "      <td>2019-04-15</td>\n",
              "      <td>game-01</td>\n",
              "      <td>2</td>\n",
              "      <td>M</td>\n",
              "      <td>10</td>\n",
              "      <td>Android</td>\n",
              "    </tr>\n",
              "    <tr>\n",
              "      <th>2</th>\n",
              "      <td>2019-04-15</td>\n",
              "      <td>game-01</td>\n",
              "      <td>3</td>\n",
              "      <td>F</td>\n",
              "      <td>40</td>\n",
              "      <td>iOS</td>\n",
              "    </tr>\n",
              "    <tr>\n",
              "      <th>3</th>\n",
              "      <td>2019-04-15</td>\n",
              "      <td>game-01</td>\n",
              "      <td>4</td>\n",
              "      <td>M</td>\n",
              "      <td>10</td>\n",
              "      <td>Android</td>\n",
              "    </tr>\n",
              "    <tr>\n",
              "      <th>4</th>\n",
              "      <td>2019-04-15</td>\n",
              "      <td>game-01</td>\n",
              "      <td>5</td>\n",
              "      <td>M</td>\n",
              "      <td>40</td>\n",
              "      <td>iOS</td>\n",
              "    </tr>\n",
              "  </tbody>\n",
              "</table>\n",
              "</div>"
            ],
            "text/plain": [
              "  install_date app_name  user_id gender  generation device_type\n",
              "0   2019-04-15  game-01        1      M          40         iOS\n",
              "1   2019-04-15  game-01        2      M          10     Android\n",
              "2   2019-04-15  game-01        3      F          40         iOS\n",
              "3   2019-04-15  game-01        4      M          10     Android\n",
              "4   2019-04-15  game-01        5      M          40         iOS"
            ]
          },
          "metadata": {
            "tags": []
          },
          "execution_count": 4
        }
      ]
    },
    {
      "cell_type": "code",
      "metadata": {
        "id": "mSQT9r_xQVhY",
        "outputId": "83604cff-3ec8-4e74-aa73-756f8a94d778",
        "colab": {
          "base_uri": "https://localhost:8080/",
          "height": 456
        }
      },
      "source": [
        "DauUser = dau.merge(user, on=['user_id', 'app_name'])\n",
        "DauUser.info()\n",
        "DauUser[:5]"
      ],
      "execution_count": 6,
      "outputs": [
        {
          "output_type": "stream",
          "text": [
            "<class 'pandas.core.frame.DataFrame'>\n",
            "Int64Index: 170398 entries, 0 to 170397\n",
            "Data columns (total 7 columns):\n",
            " #   Column        Non-Null Count   Dtype \n",
            "---  ------        --------------   ----- \n",
            " 0   log_date      170398 non-null  object\n",
            " 1   app_name      170398 non-null  object\n",
            " 2   user_id       170398 non-null  int64 \n",
            " 3   install_date  170398 non-null  object\n",
            " 4   gender        170398 non-null  object\n",
            " 5   generation    170398 non-null  int64 \n",
            " 6   device_type   170398 non-null  object\n",
            "dtypes: int64(2), object(5)\n",
            "memory usage: 10.4+ MB\n"
          ],
          "name": "stdout"
        },
        {
          "output_type": "execute_result",
          "data": {
            "text/html": [
              "<div>\n",
              "<style scoped>\n",
              "    .dataframe tbody tr th:only-of-type {\n",
              "        vertical-align: middle;\n",
              "    }\n",
              "\n",
              "    .dataframe tbody tr th {\n",
              "        vertical-align: top;\n",
              "    }\n",
              "\n",
              "    .dataframe thead th {\n",
              "        text-align: right;\n",
              "    }\n",
              "</style>\n",
              "<table border=\"1\" class=\"dataframe\">\n",
              "  <thead>\n",
              "    <tr style=\"text-align: right;\">\n",
              "      <th></th>\n",
              "      <th>log_date</th>\n",
              "      <th>app_name</th>\n",
              "      <th>user_id</th>\n",
              "      <th>install_date</th>\n",
              "      <th>gender</th>\n",
              "      <th>generation</th>\n",
              "      <th>device_type</th>\n",
              "    </tr>\n",
              "  </thead>\n",
              "  <tbody>\n",
              "    <tr>\n",
              "      <th>0</th>\n",
              "      <td>2019-08-01</td>\n",
              "      <td>game-01</td>\n",
              "      <td>33754</td>\n",
              "      <td>2019-08-01</td>\n",
              "      <td>M</td>\n",
              "      <td>20</td>\n",
              "      <td>iOS</td>\n",
              "    </tr>\n",
              "    <tr>\n",
              "      <th>1</th>\n",
              "      <td>2019-08-02</td>\n",
              "      <td>game-01</td>\n",
              "      <td>33754</td>\n",
              "      <td>2019-08-01</td>\n",
              "      <td>M</td>\n",
              "      <td>20</td>\n",
              "      <td>iOS</td>\n",
              "    </tr>\n",
              "    <tr>\n",
              "      <th>2</th>\n",
              "      <td>2019-08-01</td>\n",
              "      <td>game-01</td>\n",
              "      <td>28598</td>\n",
              "      <td>2019-07-16</td>\n",
              "      <td>M</td>\n",
              "      <td>50</td>\n",
              "      <td>iOS</td>\n",
              "    </tr>\n",
              "    <tr>\n",
              "      <th>3</th>\n",
              "      <td>2019-08-04</td>\n",
              "      <td>game-01</td>\n",
              "      <td>28598</td>\n",
              "      <td>2019-07-16</td>\n",
              "      <td>M</td>\n",
              "      <td>50</td>\n",
              "      <td>iOS</td>\n",
              "    </tr>\n",
              "    <tr>\n",
              "      <th>4</th>\n",
              "      <td>2019-08-12</td>\n",
              "      <td>game-01</td>\n",
              "      <td>28598</td>\n",
              "      <td>2019-07-16</td>\n",
              "      <td>M</td>\n",
              "      <td>50</td>\n",
              "      <td>iOS</td>\n",
              "    </tr>\n",
              "  </tbody>\n",
              "</table>\n",
              "</div>"
            ],
            "text/plain": [
              "     log_date app_name  user_id install_date gender  generation device_type\n",
              "0  2019-08-01  game-01    33754   2019-08-01      M          20         iOS\n",
              "1  2019-08-02  game-01    33754   2019-08-01      M          20         iOS\n",
              "2  2019-08-01  game-01    28598   2019-07-16      M          50         iOS\n",
              "3  2019-08-04  game-01    28598   2019-07-16      M          50         iOS\n",
              "4  2019-08-12  game-01    28598   2019-07-16      M          50         iOS"
            ]
          },
          "metadata": {
            "tags": []
          },
          "execution_count": 6
        }
      ]
    },
    {
      "cell_type": "code",
      "metadata": {
        "id": "QjIuCFGDQisO",
        "outputId": "6d7d6a6f-cd30-47e7-f38e-03b9e9d90788",
        "colab": {
          "base_uri": "https://localhost:8080/",
          "height": 309
        }
      },
      "source": [
        "DauUser['log_date_M'] = DauUser['log_date'].str[:7]\n",
        "DauUser[:5]"
      ],
      "execution_count": 7,
      "outputs": [
        {
          "output_type": "execute_result",
          "data": {
            "text/html": [
              "<div>\n",
              "<style scoped>\n",
              "    .dataframe tbody tr th:only-of-type {\n",
              "        vertical-align: middle;\n",
              "    }\n",
              "\n",
              "    .dataframe tbody tr th {\n",
              "        vertical-align: top;\n",
              "    }\n",
              "\n",
              "    .dataframe thead th {\n",
              "        text-align: right;\n",
              "    }\n",
              "</style>\n",
              "<table border=\"1\" class=\"dataframe\">\n",
              "  <thead>\n",
              "    <tr style=\"text-align: right;\">\n",
              "      <th></th>\n",
              "      <th>log_date</th>\n",
              "      <th>app_name</th>\n",
              "      <th>user_id</th>\n",
              "      <th>install_date</th>\n",
              "      <th>gender</th>\n",
              "      <th>generation</th>\n",
              "      <th>device_type</th>\n",
              "      <th>log_date_M</th>\n",
              "    </tr>\n",
              "  </thead>\n",
              "  <tbody>\n",
              "    <tr>\n",
              "      <th>0</th>\n",
              "      <td>2019-08-01</td>\n",
              "      <td>game-01</td>\n",
              "      <td>33754</td>\n",
              "      <td>2019-08-01</td>\n",
              "      <td>M</td>\n",
              "      <td>20</td>\n",
              "      <td>iOS</td>\n",
              "      <td>2019-08</td>\n",
              "    </tr>\n",
              "    <tr>\n",
              "      <th>1</th>\n",
              "      <td>2019-08-02</td>\n",
              "      <td>game-01</td>\n",
              "      <td>33754</td>\n",
              "      <td>2019-08-01</td>\n",
              "      <td>M</td>\n",
              "      <td>20</td>\n",
              "      <td>iOS</td>\n",
              "      <td>2019-08</td>\n",
              "    </tr>\n",
              "    <tr>\n",
              "      <th>2</th>\n",
              "      <td>2019-08-01</td>\n",
              "      <td>game-01</td>\n",
              "      <td>28598</td>\n",
              "      <td>2019-07-16</td>\n",
              "      <td>M</td>\n",
              "      <td>50</td>\n",
              "      <td>iOS</td>\n",
              "      <td>2019-08</td>\n",
              "    </tr>\n",
              "    <tr>\n",
              "      <th>3</th>\n",
              "      <td>2019-08-04</td>\n",
              "      <td>game-01</td>\n",
              "      <td>28598</td>\n",
              "      <td>2019-07-16</td>\n",
              "      <td>M</td>\n",
              "      <td>50</td>\n",
              "      <td>iOS</td>\n",
              "      <td>2019-08</td>\n",
              "    </tr>\n",
              "    <tr>\n",
              "      <th>4</th>\n",
              "      <td>2019-08-12</td>\n",
              "      <td>game-01</td>\n",
              "      <td>28598</td>\n",
              "      <td>2019-07-16</td>\n",
              "      <td>M</td>\n",
              "      <td>50</td>\n",
              "      <td>iOS</td>\n",
              "      <td>2019-08</td>\n",
              "    </tr>\n",
              "  </tbody>\n",
              "</table>\n",
              "</div>"
            ],
            "text/plain": [
              "     log_date app_name  user_id  ... generation device_type  log_date_M\n",
              "0  2019-08-01  game-01    33754  ...         20         iOS     2019-08\n",
              "1  2019-08-02  game-01    33754  ...         20         iOS     2019-08\n",
              "2  2019-08-01  game-01    28598  ...         50         iOS     2019-08\n",
              "3  2019-08-04  game-01    28598  ...         50         iOS     2019-08\n",
              "4  2019-08-12  game-01    28598  ...         50         iOS     2019-08\n",
              "\n",
              "[5 rows x 8 columns]"
            ]
          },
          "metadata": {
            "tags": []
          },
          "execution_count": 7
        }
      ]
    },
    {
      "cell_type": "code",
      "metadata": {
        "id": "G9lVUDa3QsaK",
        "outputId": "f4a7b16f-2ecc-464f-ee2a-0eee192616c3",
        "colab": {
          "base_uri": "https://localhost:8080/",
          "height": 142
        }
      },
      "source": [
        "pd.crosstab(DauUser['log_date_M'], DauUser['gender'])"
      ],
      "execution_count": 8,
      "outputs": [
        {
          "output_type": "execute_result",
          "data": {
            "text/html": [
              "<div>\n",
              "<style scoped>\n",
              "    .dataframe tbody tr th:only-of-type {\n",
              "        vertical-align: middle;\n",
              "    }\n",
              "\n",
              "    .dataframe tbody tr th {\n",
              "        vertical-align: top;\n",
              "    }\n",
              "\n",
              "    .dataframe thead th {\n",
              "        text-align: right;\n",
              "    }\n",
              "</style>\n",
              "<table border=\"1\" class=\"dataframe\">\n",
              "  <thead>\n",
              "    <tr style=\"text-align: right;\">\n",
              "      <th>gender</th>\n",
              "      <th>F</th>\n",
              "      <th>M</th>\n",
              "    </tr>\n",
              "    <tr>\n",
              "      <th>log_date_M</th>\n",
              "      <th></th>\n",
              "      <th></th>\n",
              "    </tr>\n",
              "  </thead>\n",
              "  <tbody>\n",
              "    <tr>\n",
              "      <th>2019-08</th>\n",
              "      <td>47358</td>\n",
              "      <td>46849</td>\n",
              "    </tr>\n",
              "    <tr>\n",
              "      <th>2019-09</th>\n",
              "      <td>38041</td>\n",
              "      <td>38150</td>\n",
              "    </tr>\n",
              "  </tbody>\n",
              "</table>\n",
              "</div>"
            ],
            "text/plain": [
              "gender          F      M\n",
              "log_date_M              \n",
              "2019-08     47358  46849\n",
              "2019-09     38041  38150"
            ]
          },
          "metadata": {
            "tags": []
          },
          "execution_count": 8
        }
      ]
    },
    {
      "cell_type": "code",
      "metadata": {
        "id": "Tan8qm0qQyWf",
        "outputId": "30b47e7e-b66e-46af-e1d0-8c31374d0bc8",
        "colab": {
          "base_uri": "https://localhost:8080/",
          "height": 142
        }
      },
      "source": [
        "pd.crosstab(DauUser['log_date_M'], DauUser['generation'])"
      ],
      "execution_count": 9,
      "outputs": [
        {
          "output_type": "execute_result",
          "data": {
            "text/html": [
              "<div>\n",
              "<style scoped>\n",
              "    .dataframe tbody tr th:only-of-type {\n",
              "        vertical-align: middle;\n",
              "    }\n",
              "\n",
              "    .dataframe tbody tr th {\n",
              "        vertical-align: top;\n",
              "    }\n",
              "\n",
              "    .dataframe thead th {\n",
              "        text-align: right;\n",
              "    }\n",
              "</style>\n",
              "<table border=\"1\" class=\"dataframe\">\n",
              "  <thead>\n",
              "    <tr style=\"text-align: right;\">\n",
              "      <th>generation</th>\n",
              "      <th>10</th>\n",
              "      <th>20</th>\n",
              "      <th>30</th>\n",
              "      <th>40</th>\n",
              "      <th>50</th>\n",
              "    </tr>\n",
              "    <tr>\n",
              "      <th>log_date_M</th>\n",
              "      <th></th>\n",
              "      <th></th>\n",
              "      <th></th>\n",
              "      <th></th>\n",
              "      <th></th>\n",
              "    </tr>\n",
              "  </thead>\n",
              "  <tbody>\n",
              "    <tr>\n",
              "      <th>2019-08</th>\n",
              "      <td>18786</td>\n",
              "      <td>33682</td>\n",
              "      <td>28080</td>\n",
              "      <td>8830</td>\n",
              "      <td>4829</td>\n",
              "    </tr>\n",
              "    <tr>\n",
              "      <th>2019-09</th>\n",
              "      <td>15392</td>\n",
              "      <td>27241</td>\n",
              "      <td>22229</td>\n",
              "      <td>7494</td>\n",
              "      <td>3835</td>\n",
              "    </tr>\n",
              "  </tbody>\n",
              "</table>\n",
              "</div>"
            ],
            "text/plain": [
              "generation     10     20     30    40    50\n",
              "log_date_M                                 \n",
              "2019-08     18786  33682  28080  8830  4829\n",
              "2019-09     15392  27241  22229  7494  3835"
            ]
          },
          "metadata": {
            "tags": []
          },
          "execution_count": 9
        }
      ]
    },
    {
      "cell_type": "code",
      "metadata": {
        "id": "833PtdHFQ5i7",
        "outputId": "1e1a40d5-a8ef-4be4-9b18-62739167a54c",
        "colab": {
          "base_uri": "https://localhost:8080/",
          "height": 173
        }
      },
      "source": [
        "pd.crosstab(DauUser['log_date_M'], columns=[DauUser['gender'], DauUser['generation']])"
      ],
      "execution_count": 10,
      "outputs": [
        {
          "output_type": "execute_result",
          "data": {
            "text/html": [
              "<div>\n",
              "<style scoped>\n",
              "    .dataframe tbody tr th:only-of-type {\n",
              "        vertical-align: middle;\n",
              "    }\n",
              "\n",
              "    .dataframe tbody tr th {\n",
              "        vertical-align: top;\n",
              "    }\n",
              "\n",
              "    .dataframe thead tr th {\n",
              "        text-align: left;\n",
              "    }\n",
              "\n",
              "    .dataframe thead tr:last-of-type th {\n",
              "        text-align: right;\n",
              "    }\n",
              "</style>\n",
              "<table border=\"1\" class=\"dataframe\">\n",
              "  <thead>\n",
              "    <tr>\n",
              "      <th>gender</th>\n",
              "      <th colspan=\"5\" halign=\"left\">F</th>\n",
              "      <th colspan=\"5\" halign=\"left\">M</th>\n",
              "    </tr>\n",
              "    <tr>\n",
              "      <th>generation</th>\n",
              "      <th>10</th>\n",
              "      <th>20</th>\n",
              "      <th>30</th>\n",
              "      <th>40</th>\n",
              "      <th>50</th>\n",
              "      <th>10</th>\n",
              "      <th>20</th>\n",
              "      <th>30</th>\n",
              "      <th>40</th>\n",
              "      <th>50</th>\n",
              "    </tr>\n",
              "    <tr>\n",
              "      <th>log_date_M</th>\n",
              "      <th></th>\n",
              "      <th></th>\n",
              "      <th></th>\n",
              "      <th></th>\n",
              "      <th></th>\n",
              "      <th></th>\n",
              "      <th></th>\n",
              "      <th></th>\n",
              "      <th></th>\n",
              "      <th></th>\n",
              "    </tr>\n",
              "  </thead>\n",
              "  <tbody>\n",
              "    <tr>\n",
              "      <th>2019-08</th>\n",
              "      <td>9091</td>\n",
              "      <td>17192</td>\n",
              "      <td>14219</td>\n",
              "      <td>4599</td>\n",
              "      <td>2257</td>\n",
              "      <td>9695</td>\n",
              "      <td>16490</td>\n",
              "      <td>13861</td>\n",
              "      <td>4231</td>\n",
              "      <td>2572</td>\n",
              "    </tr>\n",
              "    <tr>\n",
              "      <th>2019-09</th>\n",
              "      <td>7316</td>\n",
              "      <td>13628</td>\n",
              "      <td>11460</td>\n",
              "      <td>3856</td>\n",
              "      <td>1781</td>\n",
              "      <td>8076</td>\n",
              "      <td>13613</td>\n",
              "      <td>10769</td>\n",
              "      <td>3638</td>\n",
              "      <td>2054</td>\n",
              "    </tr>\n",
              "  </tbody>\n",
              "</table>\n",
              "</div>"
            ],
            "text/plain": [
              "gender         F                               M                          \n",
              "generation    10     20     30    40    50    10     20     30    40    50\n",
              "log_date_M                                                                \n",
              "2019-08     9091  17192  14219  4599  2257  9695  16490  13861  4231  2572\n",
              "2019-09     7316  13628  11460  3856  1781  8076  13613  10769  3638  2054"
            ]
          },
          "metadata": {
            "tags": []
          },
          "execution_count": 10
        }
      ]
    },
    {
      "cell_type": "code",
      "metadata": {
        "id": "V4EpVUMPRDyM",
        "outputId": "7e1e2798-1170-4ce4-93c9-557ef4355b66",
        "colab": {
          "base_uri": "https://localhost:8080/",
          "height": 142
        }
      },
      "source": [
        "pd.crosstab(DauUser['log_date_M'], DauUser[\"device_type\"])"
      ],
      "execution_count": 11,
      "outputs": [
        {
          "output_type": "execute_result",
          "data": {
            "text/html": [
              "<div>\n",
              "<style scoped>\n",
              "    .dataframe tbody tr th:only-of-type {\n",
              "        vertical-align: middle;\n",
              "    }\n",
              "\n",
              "    .dataframe tbody tr th {\n",
              "        vertical-align: top;\n",
              "    }\n",
              "\n",
              "    .dataframe thead th {\n",
              "        text-align: right;\n",
              "    }\n",
              "</style>\n",
              "<table border=\"1\" class=\"dataframe\">\n",
              "  <thead>\n",
              "    <tr style=\"text-align: right;\">\n",
              "      <th>device_type</th>\n",
              "      <th>Android</th>\n",
              "      <th>iOS</th>\n",
              "    </tr>\n",
              "    <tr>\n",
              "      <th>log_date_M</th>\n",
              "      <th></th>\n",
              "      <th></th>\n",
              "    </tr>\n",
              "  </thead>\n",
              "  <tbody>\n",
              "    <tr>\n",
              "      <th>2019-08</th>\n",
              "      <td>46990</td>\n",
              "      <td>47217</td>\n",
              "    </tr>\n",
              "    <tr>\n",
              "      <th>2019-09</th>\n",
              "      <td>29659</td>\n",
              "      <td>46532</td>\n",
              "    </tr>\n",
              "  </tbody>\n",
              "</table>\n",
              "</div>"
            ],
            "text/plain": [
              "device_type  Android    iOS\n",
              "log_date_M                 \n",
              "2019-08        46990  47217\n",
              "2019-09        29659  46532"
            ]
          },
          "metadata": {
            "tags": []
          },
          "execution_count": 11
        }
      ]
    },
    {
      "cell_type": "code",
      "metadata": {
        "id": "p-UjMOUeRML8",
        "outputId": "28214ae6-9c61-4352-8377-62cf46584698",
        "colab": {
          "base_uri": "https://localhost:8080/",
          "height": 278
        }
      },
      "source": [
        "# 디바이스 유형별 접속일자의 시각화 - 라인 그래프\n",
        "data = pd.crosstab(DauUser['log_date'], DauUser['device_type'])\n",
        "graph = pd.DataFrame(data)\n",
        "graph.plot.line(figsize=(15,5), style='--')"
      ],
      "execution_count": 19,
      "outputs": [
        {
          "output_type": "execute_result",
          "data": {
            "text/plain": [
              "<matplotlib.axes._subplots.AxesSubplot at 0x7f2ab8ef9780>"
            ]
          },
          "metadata": {
            "tags": []
          },
          "execution_count": 19
        },
        {
          "output_type": "display_data",
          "data": {
            "image/png": "[encoded data removed]",
            "text/plain": [
              "<Figure size 1080x360 with 1 Axes>"
            ]
          },
          "metadata": {
            "tags": [],
            "needs_background": "light"
          }
        }
      ]
    },
    {
      "cell_type": "code",
      "metadata": {
        "id": "vtLtcF0-VVYG"
      },
      "source": [
        ""
      ],
      "execution_count": null,
      "outputs": []
    }
  ]
}