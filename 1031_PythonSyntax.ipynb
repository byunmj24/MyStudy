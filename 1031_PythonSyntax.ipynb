{
  "nbformat": 4,
  "nbformat_minor": 0,
  "metadata": {
    "colab": {
      "name": "1031 PythonSyntax.ipynb",
      "provenance": [],
      "authorship_tag": "ABX9TyOcLhT62IwLYHu8wVpEdRbC",
      "include_colab_link": true
    },
    "kernelspec": {
      "name": "python3",
      "display_name": "Python 3"
    }
  },
  "cells": [
    {
      "cell_type": "markdown",
      "metadata": {
        "id": "view-in-github",
        "colab_type": "text"
      },
      "source": [
        "<a href=\"https://colab.research.google.com/github/byunmj24/MyStudy/blob/master/1031_PythonSyntax.ipynb\" target=\"_parent\"><img src=\"https://colab.research.google.com/assets/colab-badge.svg\" alt=\"Open In Colab\"/></a>"
      ]
    },
    {
      "cell_type": "markdown",
      "metadata": {
        "id": "s1kCMATEDitJ"
      },
      "source": [
        "자료형태(Scalar Type) 실습 - 1. 숫자"
      ]
    },
    {
      "cell_type": "code",
      "metadata": {
        "id": "f0TFYUguD0wl",
        "outputId": "10ee46d3-0c9d-4ae9-ba73-e52c23ad004a",
        "colab": {
          "base_uri": "https://localhost:8080/"
        }
      },
      "source": [
        "print(273)"
      ],
      "execution_count": 8,
      "outputs": [
        {
          "output_type": "stream",
          "text": [
            "273\n"
          ],
          "name": "stdout"
        }
      ]
    },
    {
      "cell_type": "code",
      "metadata": {
        "id": "gRfljXB8ETN6"
      },
      "source": [
        ""
      ],
      "execution_count": null,
      "outputs": []
    },
    {
      "cell_type": "code",
      "metadata": {
        "id": "fx69fAFm_L42",
        "outputId": "545145e4-914e-4e34-be46-97c6ff282055",
        "colab": {
          "base_uri": "https://localhost:8080/"
        }
      },
      "source": [
        "print(52.273)"
      ],
      "execution_count": 9,
      "outputs": [
        {
          "output_type": "stream",
          "text": [
            "52.273\n"
          ],
          "name": "stdout"
        }
      ]
    },
    {
      "cell_type": "code",
      "metadata": {
        "id": "FfNv57zKDvcc",
        "outputId": "43ce3522-5c3f-4e54-c210-845c0075897c",
        "colab": {
          "base_uri": "https://localhost:8080/"
        }
      },
      "source": [
        "print(type(273))"
      ],
      "execution_count": 10,
      "outputs": [
        {
          "output_type": "stream",
          "text": [
            "<class 'int'>\n"
          ],
          "name": "stdout"
        }
      ]
    },
    {
      "cell_type": "code",
      "metadata": {
        "id": "r_kV93vMDxrY",
        "outputId": "ac109485-d7ec-4993-9270-132c313af546",
        "colab": {
          "base_uri": "https://localhost:8080/"
        }
      },
      "source": [
        "print(type(52.273))"
      ],
      "execution_count": 11,
      "outputs": [
        {
          "output_type": "stream",
          "text": [
            "<class 'float'>\n"
          ],
          "name": "stdout"
        }
      ]
    },
    {
      "cell_type": "markdown",
      "metadata": {
        "id": "WpF4VBDNEClX"
      },
      "source": [
        "1) 정수(int)"
      ]
    },
    {
      "cell_type": "code",
      "metadata": {
        "id": "0q9Zk_yREGiZ",
        "outputId": "5781a9f2-e134-4f47-b2ec-41a1c8b335c8",
        "colab": {
          "base_uri": "https://localhost:8080/"
        }
      },
      "source": [
        "x = 9\n",
        "print(x)"
      ],
      "execution_count": 12,
      "outputs": [
        {
          "output_type": "stream",
          "text": [
            "9\n"
          ],
          "name": "stdout"
        }
      ]
    },
    {
      "cell_type": "code",
      "metadata": {
        "id": "FUL6mc5qELms",
        "outputId": "ee26529f-3fdb-49e5-d663-8ea08a7fae12",
        "colab": {
          "base_uri": "https://localhost:8080/"
        }
      },
      "source": [
        "y = 2\n",
        "\n",
        "print(x+y)"
      ],
      "execution_count": 13,
      "outputs": [
        {
          "output_type": "stream",
          "text": [
            "11\n"
          ],
          "name": "stdout"
        }
      ]
    },
    {
      "cell_type": "markdown",
      "metadata": {
        "id": "0lZ5QFPXEj-i"
      },
      "source": [
        "2) 실수(float)"
      ]
    },
    {
      "cell_type": "code",
      "metadata": {
        "id": "ANS4AW7xEnN0",
        "outputId": "8c4396af-9064-45d8-9dc3-e8fece785e26",
        "colab": {
          "base_uri": "https://localhost:8080/"
        }
      },
      "source": [
        "x = 9.5\n",
        "print(x)"
      ],
      "execution_count": 14,
      "outputs": [
        {
          "output_type": "stream",
          "text": [
            "9.5\n"
          ],
          "name": "stdout"
        }
      ]
    },
    {
      "cell_type": "code",
      "metadata": {
        "id": "mKVi0VAtEpLt",
        "outputId": "61d8d5ba-4f44-4e40-ae36-0adcca65c19e",
        "colab": {
          "base_uri": "https://localhost:8080/"
        }
      },
      "source": [
        "# 더하기(#은 주석이라고 불리며, 코드 실행에는 아무런 영향도 주지 않습니다.)\n",
        "24 + 73"
      ],
      "execution_count": 15,
      "outputs": [
        {
          "output_type": "execute_result",
          "data": {
            "text/plain": [
              "97"
            ]
          },
          "metadata": {
            "tags": []
          },
          "execution_count": 15
        }
      ]
    },
    {
      "cell_type": "code",
      "metadata": {
        "id": "C6aiQdQmE8Mq",
        "outputId": "63e6386d-3d8c-42ae-a884-9bc8ea65bcfe",
        "colab": {
          "base_uri": "https://localhost:8080/"
        }
      },
      "source": [
        "# 빼기\n",
        "43-26"
      ],
      "execution_count": 16,
      "outputs": [
        {
          "output_type": "execute_result",
          "data": {
            "text/plain": [
              "17"
            ]
          },
          "metadata": {
            "tags": []
          },
          "execution_count": 16
        }
      ]
    },
    {
      "cell_type": "code",
      "metadata": {
        "id": "cWsOBM_yE_zO",
        "outputId": "8a4e3486-483a-493a-fa1e-4c6d3e43cb9a",
        "colab": {
          "base_uri": "https://localhost:8080/"
        }
      },
      "source": [
        "# 곱하기\n",
        "87*4"
      ],
      "execution_count": 17,
      "outputs": [
        {
          "output_type": "execute_result",
          "data": {
            "text/plain": [
              "348"
            ]
          },
          "metadata": {
            "tags": []
          },
          "execution_count": 17
        }
      ]
    },
    {
      "cell_type": "code",
      "metadata": {
        "id": "ybyV2khVFBfc",
        "outputId": "504c2d1d-40a8-480a-f1ca-5fa3cd5e5751",
        "colab": {
          "base_uri": "https://localhost:8080/"
        }
      },
      "source": [
        "# 나누기\n",
        "50/4"
      ],
      "execution_count": 18,
      "outputs": [
        {
          "output_type": "execute_result",
          "data": {
            "text/plain": [
              "12.5"
            ]
          },
          "metadata": {
            "tags": []
          },
          "execution_count": 18
        }
      ]
    },
    {
      "cell_type": "code",
      "metadata": {
        "id": "Oj9N1dv9FEik",
        "outputId": "7b53e5e3-1e42-4f02-85ec-6ac2ce6986e4",
        "colab": {
          "base_uri": "https://localhost:8080/"
        }
      },
      "source": [
        "# 나눗셈 후 소수점 아랫자리 버리기\n",
        "34//3"
      ],
      "execution_count": 19,
      "outputs": [
        {
          "output_type": "execute_result",
          "data": {
            "text/plain": [
              "11"
            ]
          },
          "metadata": {
            "tags": []
          },
          "execution_count": 19
        }
      ]
    },
    {
      "cell_type": "code",
      "metadata": {
        "id": "9xGKLVYEFKGj",
        "outputId": "9d9c14aa-88b1-4788-9224-41dfaf6ef518",
        "colab": {
          "base_uri": "https://localhost:8080/"
        }
      },
      "source": [
        "34/3"
      ],
      "execution_count": 20,
      "outputs": [
        {
          "output_type": "execute_result",
          "data": {
            "text/plain": [
              "11.333333333333334"
            ]
          },
          "metadata": {
            "tags": []
          },
          "execution_count": 20
        }
      ]
    },
    {
      "cell_type": "code",
      "metadata": {
        "id": "poo-tMedFPnU",
        "outputId": "c94087e9-385f-4bd7-e148-deb7c7c726e8",
        "colab": {
          "base_uri": "https://localhost:8080/"
        }
      },
      "source": [
        "# 나눗셈 후 나머지 반환하기\n",
        "34%3"
      ],
      "execution_count": 22,
      "outputs": [
        {
          "output_type": "execute_result",
          "data": {
            "text/plain": [
              "1"
            ]
          },
          "metadata": {
            "tags": []
          },
          "execution_count": 22
        }
      ]
    },
    {
      "cell_type": "code",
      "metadata": {
        "id": "VHGAOSdYFYaQ",
        "outputId": "b16a5659-6b27-4c56-b3ad-f4223344f445",
        "colab": {
          "base_uri": "https://localhost:8080/"
        }
      },
      "source": [
        "# 거듭제곱\n",
        "3**4"
      ],
      "execution_count": 23,
      "outputs": [
        {
          "output_type": "execute_result",
          "data": {
            "text/plain": [
              "81"
            ]
          },
          "metadata": {
            "tags": []
          },
          "execution_count": 23
        }
      ]
    },
    {
      "cell_type": "code",
      "metadata": {
        "id": "80L5NWrdFekx",
        "outputId": "94f81191-a620-4965-f25c-91366d8c66f9",
        "colab": {
          "base_uri": "https://localhost:8080/"
        }
      },
      "source": [
        "3^4"
      ],
      "execution_count": 24,
      "outputs": [
        {
          "output_type": "execute_result",
          "data": {
            "text/plain": [
              "7"
            ]
          },
          "metadata": {
            "tags": []
          },
          "execution_count": 24
        }
      ]
    },
    {
      "cell_type": "markdown",
      "metadata": {
        "id": "AQAsgCwbGujp"
      },
      "source": [
        "3) 문자(str) - 큰따옴표(\" \") 또는 작은따옴표(' ')로 둘러싸고 있어야함"
      ]
    },
    {
      "cell_type": "code",
      "metadata": {
        "id": "2dKmmQH_G3Xo",
        "outputId": "40af4637-d80d-4ea9-8b70-630b842b779f",
        "colab": {
          "base_uri": "https://localhost:8080/"
        }
      },
      "source": [
        "print(\"문자열 출력하기. 큰 따옴표\")\n",
        "print('문자열 출력하기. \\n 작은 따옴표')\n",
        "print(\"\"\"문자열 출력하기. 큰 따옴표 3개 - 문단\"\"\")\n",
        "print('''문자열 출력하기. 작은 따옴표 3개 - 문단''')"
      ],
      "execution_count": 31,
      "outputs": [
        {
          "output_type": "stream",
          "text": [
            "문자열 출력하기. 큰 따옴표\n",
            "문자열 출력하기. \n",
            " 작은 따옴표\n",
            "문자열 출력하기. 큰 따옴표 3개 - 문단\n",
            "문자열 출력하기. 작은 따옴표 3개 - 문단\n"
          ],
          "name": "stdout"
        }
      ]
    },
    {
      "cell_type": "code",
      "metadata": {
        "id": "zTe0ckg9HOmY",
        "outputId": "0db14d5b-3745-4e22-ca4a-3d68ad509855",
        "colab": {
          "base_uri": "https://localhost:8080/"
        }
      },
      "source": [
        "type(15567)\n"
      ],
      "execution_count": 35,
      "outputs": [
        {
          "output_type": "execute_result",
          "data": {
            "text/plain": [
              "int"
            ]
          },
          "metadata": {
            "tags": []
          },
          "execution_count": 35
        }
      ]
    },
    {
      "cell_type": "code",
      "metadata": {
        "id": "RMJDdljsH_3u",
        "outputId": "c74e293b-f481-4ff7-9dad-edd7d2c2e764",
        "colab": {
          "base_uri": "https://localhost:8080/"
        }
      },
      "source": [
        "type(\"15567\")"
      ],
      "execution_count": 36,
      "outputs": [
        {
          "output_type": "execute_result",
          "data": {
            "text/plain": [
              "str"
            ]
          },
          "metadata": {
            "tags": []
          },
          "execution_count": 36
        }
      ]
    },
    {
      "cell_type": "code",
      "metadata": {
        "id": "SWj6KwvzIGvT"
      },
      "source": [
        "text = \"&&&All Children, except one, grow up&&&\""
      ],
      "execution_count": 37,
      "outputs": []
    },
    {
      "cell_type": "code",
      "metadata": {
        "id": "8KHI-xz4ITiW",
        "outputId": "5ffdf08a-bd54-419e-e899-804b091343fd",
        "colab": {
          "base_uri": "https://localhost:8080/",
          "height": 35
        }
      },
      "source": [
        "text"
      ],
      "execution_count": 39,
      "outputs": [
        {
          "output_type": "execute_result",
          "data": {
            "application/vnd.google.colaboratory.intrinsic+json": {
              "type": "string"
            },
            "text/plain": [
              "'&&&All Children, except one, grow up&&&'"
            ]
          },
          "metadata": {
            "tags": []
          },
          "execution_count": 39
        }
      ]
    },
    {
      "cell_type": "code",
      "metadata": {
        "id": "hcSPQdPgIVsR",
        "outputId": "ab2316a8-e59a-4160-8701-836de33fe4d9",
        "colab": {
          "base_uri": "https://localhost:8080/"
        }
      },
      "source": [
        "#split()\n",
        "split_text = text.split()\n",
        "split_text"
      ],
      "execution_count": 42,
      "outputs": [
        {
          "output_type": "execute_result",
          "data": {
            "text/plain": [
              "['&&&All', 'Children,', 'except', 'one,', 'grow', 'up&&&']"
            ]
          },
          "metadata": {
            "tags": []
          },
          "execution_count": 42
        }
      ]
    },
    {
      "cell_type": "code",
      "metadata": {
        "id": "yz4r-JloI8ib",
        "outputId": "1a193a53-05d0-4f4c-8d26-79406516c8c7",
        "colab": {
          "base_uri": "https://localhost:8080/",
          "height": 35
        }
      },
      "source": [
        "#join()\n",
        "join_text = \" \".join(split_text)\n",
        "join_text"
      ],
      "execution_count": 44,
      "outputs": [
        {
          "output_type": "execute_result",
          "data": {
            "application/vnd.google.colaboratory.intrinsic+json": {
              "type": "string"
            },
            "text/plain": [
              "'&&&All Children, except one, grow up&&&'"
            ]
          },
          "metadata": {
            "tags": []
          },
          "execution_count": 44
        }
      ]
    },
    {
      "cell_type": "code",
      "metadata": {
        "id": "g0dm06XiJo5z",
        "outputId": "07b71abf-e8ad-47ce-b3c8-f814c7cb5e83",
        "colab": {
          "base_uri": "https://localhost:8080/",
          "height": 35
        }
      },
      "source": [
        "text"
      ],
      "execution_count": 45,
      "outputs": [
        {
          "output_type": "execute_result",
          "data": {
            "application/vnd.google.colaboratory.intrinsic+json": {
              "type": "string"
            },
            "text/plain": [
              "'&&&All Children, except one, grow up&&&'"
            ]
          },
          "metadata": {
            "tags": []
          },
          "execution_count": 45
        }
      ]
    },
    {
      "cell_type": "code",
      "metadata": {
        "id": "Tn3GG4GyJuVu",
        "outputId": "fd37a2bf-9b66-4c0b-b3b6-25c636a8b592",
        "colab": {
          "base_uri": "https://localhost:8080/",
          "height": 35
        }
      },
      "source": [
        "strip_text = text.strip(\"&\")\n",
        "strip_text"
      ],
      "execution_count": 60,
      "outputs": [
        {
          "output_type": "execute_result",
          "data": {
            "application/vnd.google.colaboratory.intrinsic+json": {
              "type": "string"
            },
            "text/plain": [
              "'All Children, except one, grow up'"
            ]
          },
          "metadata": {
            "tags": []
          },
          "execution_count": 60
        }
      ]
    },
    {
      "cell_type": "code",
      "metadata": {
        "id": "o7bSTNalJ-GO",
        "outputId": "f0db4584-270e-4133-90fc-1eaa4f76ac89",
        "colab": {
          "base_uri": "https://localhost:8080/",
          "height": 35
        }
      },
      "source": [
        "lstrip_text = text.lstrip(\"&\")\n",
        "lstrip_text"
      ],
      "execution_count": 63,
      "outputs": [
        {
          "output_type": "execute_result",
          "data": {
            "application/vnd.google.colaboratory.intrinsic+json": {
              "type": "string"
            },
            "text/plain": [
              "'All Children, except one, grow up&&&'"
            ]
          },
          "metadata": {
            "tags": []
          },
          "execution_count": 63
        }
      ]
    },
    {
      "cell_type": "code",
      "metadata": {
        "id": "aX5eJVfsKNSj",
        "outputId": "45889d37-2e5d-4c2c-ee8b-600264aaad5e",
        "colab": {
          "base_uri": "https://localhost:8080/",
          "height": 35
        }
      },
      "source": [
        "rstrip_text = text.rstrip(\"&\")\n",
        "rstrip_text"
      ],
      "execution_count": 64,
      "outputs": [
        {
          "output_type": "execute_result",
          "data": {
            "application/vnd.google.colaboratory.intrinsic+json": {
              "type": "string"
            },
            "text/plain": [
              "'&&&All Children, except one, grow up'"
            ]
          },
          "metadata": {
            "tags": []
          },
          "execution_count": 64
        }
      ]
    },
    {
      "cell_type": "code",
      "metadata": {
        "id": "raGGEnt3KSPy",
        "outputId": "e6a74fc5-c2ac-48f8-d75a-4b04471c6e73",
        "colab": {
          "base_uri": "https://localhost:8080/",
          "height": 35
        }
      },
      "source": [
        "text"
      ],
      "execution_count": 53,
      "outputs": [
        {
          "output_type": "execute_result",
          "data": {
            "application/vnd.google.colaboratory.intrinsic+json": {
              "type": "string"
            },
            "text/plain": [
              "'&&&All Children, except one, grow up&&&'"
            ]
          },
          "metadata": {
            "tags": []
          },
          "execution_count": 53
        }
      ]
    },
    {
      "cell_type": "code",
      "metadata": {
        "id": "DqBidGSUKTBL",
        "outputId": "4a7365b0-c0a6-4e5d-af5c-df3369c4242b",
        "colab": {
          "base_uri": "https://localhost:8080/"
        }
      },
      "source": [
        "replace_text = text.replace(\"Children\", \"kids\")\n",
        "print(replace_text)\n",
        "print(format(replace_text.strip(\"&\")))"
      ],
      "execution_count": 58,
      "outputs": [
        {
          "output_type": "stream",
          "text": [
            "&&&All kids, except one, grow up&&&\n",
            "All kids, except one, grow up\n"
          ],
          "name": "stdout"
        }
      ]
    },
    {
      "cell_type": "code",
      "metadata": {
        "id": "LS-V6nx0KY5F"
      },
      "source": [
        "head = strip_text\n",
        "tail = \"__By J. M. Barrie, Peter Pan\""
      ],
      "execution_count": 68,
      "outputs": []
    },
    {
      "cell_type": "code",
      "metadata": {
        "id": "-QoQADxGLHD1",
        "outputId": "928ecd77-28be-4dfb-bffb-91d062c74bcf",
        "colab": {
          "base_uri": "https://localhost:8080/"
        }
      },
      "source": [
        "full_text = head + \" \" + tail\n",
        "print(full_text)"
      ],
      "execution_count": 69,
      "outputs": [
        {
          "output_type": "stream",
          "text": [
            "All Children, except one, grow up __By J. M. Barrie, Peter Pan\n"
          ],
          "name": "stdout"
        }
      ]
    },
    {
      "cell_type": "code",
      "metadata": {
        "id": "2-U1WMGvLQMz",
        "outputId": "4f6deb38-50ca-4c4c-8565-e85f25839ad8",
        "colab": {
          "base_uri": "https://localhost:8080/"
        }
      },
      "source": [
        "print(\"=\"*62)\n",
        "print(full_text)\n",
        "print(\"=\"*62)"
      ],
      "execution_count": 74,
      "outputs": [
        {
          "output_type": "stream",
          "text": [
            "==============================================================\n",
            "All Children, except one, grow up __By J. M. Barrie, Peter Pan\n",
            "==============================================================\n"
          ],
          "name": "stdout"
        }
      ]
    },
    {
      "cell_type": "markdown",
      "metadata": {
        "id": "9Do8A3_ML4SN"
      },
      "source": [
        "문자 인덱싱"
      ]
    },
    {
      "cell_type": "code",
      "metadata": {
        "id": "JTS6LbP_L7r5",
        "outputId": "fd0ed8da-a05e-4031-9d1d-29d9376bfe64",
        "colab": {
          "base_uri": "https://localhost:8080/",
          "height": 35
        }
      },
      "source": [
        "strip_text[14]"
      ],
      "execution_count": 79,
      "outputs": [
        {
          "output_type": "execute_result",
          "data": {
            "application/vnd.google.colaboratory.intrinsic+json": {
              "type": "string"
            },
            "text/plain": [
              "'e'"
            ]
          },
          "metadata": {
            "tags": []
          },
          "execution_count": 79
        }
      ]
    },
    {
      "cell_type": "code",
      "metadata": {
        "id": "y9H08-eoMyAJ",
        "outputId": "b1f7f2bf-6e6f-4909-e092-5309d36bd158",
        "colab": {
          "base_uri": "https://localhost:8080/",
          "height": 35
        }
      },
      "source": [
        "strip_text[-19]"
      ],
      "execution_count": 80,
      "outputs": [
        {
          "output_type": "execute_result",
          "data": {
            "application/vnd.google.colaboratory.intrinsic+json": {
              "type": "string"
            },
            "text/plain": [
              "'e'"
            ]
          },
          "metadata": {
            "tags": []
          },
          "execution_count": 80
        }
      ]
    },
    {
      "cell_type": "code",
      "metadata": {
        "id": "z_tQQ8GKNEsY",
        "outputId": "b37738f4-a53d-4ca0-d334-afb252ee0579",
        "colab": {
          "base_uri": "https://localhost:8080/",
          "height": 35
        }
      },
      "source": [
        "strip_text[4:12]"
      ],
      "execution_count": 81,
      "outputs": [
        {
          "output_type": "execute_result",
          "data": {
            "application/vnd.google.colaboratory.intrinsic+json": {
              "type": "string"
            },
            "text/plain": [
              "'Children'"
            ]
          },
          "metadata": {
            "tags": []
          },
          "execution_count": 81
        }
      ]
    },
    {
      "cell_type": "code",
      "metadata": {
        "id": "irlWp66cNVB5",
        "outputId": "6e691218-6a6e-426a-caf8-c82bd9ab5412",
        "colab": {
          "base_uri": "https://localhost:8080/",
          "height": 35
        }
      },
      "source": [
        "strip_text[:24]"
      ],
      "execution_count": 82,
      "outputs": [
        {
          "output_type": "execute_result",
          "data": {
            "application/vnd.google.colaboratory.intrinsic+json": {
              "type": "string"
            },
            "text/plain": [
              "'All Children, except one'"
            ]
          },
          "metadata": {
            "tags": []
          },
          "execution_count": 82
        }
      ]
    },
    {
      "cell_type": "code",
      "metadata": {
        "id": "KqWFkK0qNW7F",
        "outputId": "3cdaf4b6-026b-4800-e7bb-9aff6ee27950",
        "colab": {
          "base_uri": "https://localhost:8080/",
          "height": 35
        }
      },
      "source": [
        "strip_text[0:24]"
      ],
      "execution_count": 84,
      "outputs": [
        {
          "output_type": "execute_result",
          "data": {
            "application/vnd.google.colaboratory.intrinsic+json": {
              "type": "string"
            },
            "text/plain": [
              "'All Children, except one'"
            ]
          },
          "metadata": {
            "tags": []
          },
          "execution_count": 84
        }
      ]
    },
    {
      "cell_type": "markdown",
      "metadata": {
        "id": "EQe3bfLeNqoA"
      },
      "source": [
        "불(Bool)"
      ]
    },
    {
      "cell_type": "code",
      "metadata": {
        "id": "vmvf_onGNr8r",
        "outputId": "ea8ebb5a-df43-4b26-b9f9-d05cb39e3daa",
        "colab": {
          "base_uri": "https://localhost:8080/"
        }
      },
      "source": [
        "print(type(True))"
      ],
      "execution_count": 85,
      "outputs": [
        {
          "output_type": "stream",
          "text": [
            "<class 'bool'>\n"
          ],
          "name": "stdout"
        }
      ]
    },
    {
      "cell_type": "code",
      "metadata": {
        "id": "ywPbw1EUN3_z",
        "outputId": "04d9146a-1925-4eae-a9a8-62f824c32770",
        "colab": {
          "base_uri": "https://localhost:8080/"
        }
      },
      "source": [
        "print(type(False))"
      ],
      "execution_count": 87,
      "outputs": [
        {
          "output_type": "stream",
          "text": [
            "<class 'bool'>\n"
          ],
          "name": "stdout"
        }
      ]
    },
    {
      "cell_type": "code",
      "metadata": {
        "id": "aPa4l6UwN5wI",
        "outputId": "2f3e3254-5aa2-41be-e649-2b4f2cba731f",
        "colab": {
          "base_uri": "https://localhost:8080/"
        }
      },
      "source": [
        "import keyword\n",
        "keyword.kwlist"
      ],
      "execution_count": 88,
      "outputs": [
        {
          "output_type": "execute_result",
          "data": {
            "text/plain": [
              "['False',\n",
              " 'None',\n",
              " 'True',\n",
              " 'and',\n",
              " 'as',\n",
              " 'assert',\n",
              " 'break',\n",
              " 'class',\n",
              " 'continue',\n",
              " 'def',\n",
              " 'del',\n",
              " 'elif',\n",
              " 'else',\n",
              " 'except',\n",
              " 'finally',\n",
              " 'for',\n",
              " 'from',\n",
              " 'global',\n",
              " 'if',\n",
              " 'import',\n",
              " 'in',\n",
              " 'is',\n",
              " 'lambda',\n",
              " 'nonlocal',\n",
              " 'not',\n",
              " 'or',\n",
              " 'pass',\n",
              " 'raise',\n",
              " 'return',\n",
              " 'try',\n",
              " 'while',\n",
              " 'with',\n",
              " 'yield']"
            ]
          },
          "metadata": {
            "tags": []
          },
          "execution_count": 88
        }
      ]
    },
    {
      "cell_type": "code",
      "metadata": {
        "id": "JRn2O_93ORLZ",
        "outputId": "184bfd71-1478-4338-a908-9259f51988a9",
        "colab": {
          "base_uri": "https://localhost:8080/"
        }
      },
      "source": [
        "print(10 == 100)"
      ],
      "execution_count": 89,
      "outputs": [
        {
          "output_type": "stream",
          "text": [
            "False\n"
          ],
          "name": "stdout"
        }
      ]
    },
    {
      "cell_type": "code",
      "metadata": {
        "id": "IDI2uZpQOi10",
        "outputId": "0df41ace-12e7-464b-a187-32ea935c48f0",
        "colab": {
          "base_uri": "https://localhost:8080/"
        }
      },
      "source": [
        "print(\"가수\" == \"가수\")"
      ],
      "execution_count": 90,
      "outputs": [
        {
          "output_type": "stream",
          "text": [
            "True\n"
          ],
          "name": "stdout"
        }
      ]
    },
    {
      "cell_type": "markdown",
      "metadata": {
        "id": "q-TlkKonO8nA"
      },
      "source": [
        "None Type\n",
        "휴지 사진!! 참조"
      ]
    },
    {
      "cell_type": "markdown",
      "metadata": {
        "id": "4lJ6uQwCPlqo"
      },
      "source": [
        "자료 구조\n",
        "변수(variable)"
      ]
    },
    {
      "cell_type": "code",
      "metadata": {
        "id": "5r43NyCbPn_4"
      },
      "source": [
        "# 변수 만들기\n",
        "name = \"계산기\""
      ],
      "execution_count": 91,
      "outputs": []
    },
    {
      "cell_type": "code",
      "metadata": {
        "id": "WMmFhPDeQaXq",
        "outputId": "02b4026d-3bbe-4db0-c778-f904c7b78b09",
        "colab": {
          "base_uri": "https://localhost:8080/",
          "height": 35
        }
      },
      "source": [
        "name"
      ],
      "execution_count": 92,
      "outputs": [
        {
          "output_type": "execute_result",
          "data": {
            "application/vnd.google.colaboratory.intrinsic+json": {
              "type": "string"
            },
            "text/plain": [
              "'계산기'"
            ]
          },
          "metadata": {
            "tags": []
          },
          "execution_count": 92
        }
      ]
    },
    {
      "cell_type": "code",
      "metadata": {
        "id": "xwu6NsqOQbOh",
        "outputId": "160245bf-4bf0-4d5b-bd56-743bb5783975",
        "colab": {
          "base_uri": "https://localhost:8080/"
        }
      },
      "source": [
        "a = int(input(\"첫 번째 값을 입력하세요 :    \"))\n",
        "b = int(input(\"두 번째 값을 입력하세요 :    \"))\n",
        "result = a+b\n",
        "print(a, \"+\", b, \"=\", result)"
      ],
      "execution_count": 97,
      "outputs": [
        {
          "output_type": "stream",
          "text": [
            "첫 번째 값을 입력하세요 :    2\n",
            "두 번째 값을 입력하세요 :    3\n",
            "2 + 3 = 5\n"
          ],
          "name": "stdout"
        }
      ]
    },
    {
      "cell_type": "code",
      "metadata": {
        "id": "4psCD1nNQ-BC",
        "outputId": "6df86366-8030-448c-dcc9-697aa35be1cb",
        "colab": {
          "base_uri": "https://localhost:8080/"
        }
      },
      "source": [
        "a"
      ],
      "execution_count": 94,
      "outputs": [
        {
          "output_type": "execute_result",
          "data": {
            "text/plain": [
              "10"
            ]
          },
          "metadata": {
            "tags": []
          },
          "execution_count": 94
        }
      ]
    },
    {
      "cell_type": "code",
      "metadata": {
        "id": "Gc7onbbpRCH6",
        "outputId": "6ca8d4ed-761d-4a08-8a63-992c2b680592",
        "colab": {
          "base_uri": "https://localhost:8080/"
        }
      },
      "source": [
        "b"
      ],
      "execution_count": 95,
      "outputs": [
        {
          "output_type": "execute_result",
          "data": {
            "text/plain": [
              "5"
            ]
          },
          "metadata": {
            "tags": []
          },
          "execution_count": 95
        }
      ]
    },
    {
      "cell_type": "code",
      "metadata": {
        "id": "mgoKXoS7RCmM",
        "outputId": "f7b88f22-2ac9-4d09-b64b-1f5d37bde0a0",
        "colab": {
          "base_uri": "https://localhost:8080/"
        }
      },
      "source": [
        "result = a+b\n",
        "print(a, \"+\", b, \"=\", result)"
      ],
      "execution_count": 96,
      "outputs": [
        {
          "output_type": "stream",
          "text": [
            "10 + 5 = 15\n"
          ],
          "name": "stdout"
        }
      ]
    },
    {
      "cell_type": "markdown",
      "metadata": {
        "id": "Id9dOXMSRk-G"
      },
      "source": [
        "튜플 : 하나의 변수에 여러개의 값을 저장할 수 있다. \n",
        "- 생성된 이후 각 요소를 변경하는 것이 불가능하다.\n",
        "- 튜플을 생성하기 위해서는 소괄호()를 사용한다."
      ]
    },
    {
      "cell_type": "code",
      "metadata": {
        "id": "hvQgWuiMRnSj",
        "outputId": "fb40baa8-23ed-4721-bac3-c94b234da7b1",
        "colab": {
          "base_uri": "https://localhost:8080/"
        }
      },
      "source": [
        "tuple_ko_key = (\"가\", \"나\", \"다\", \"라\", \"마\", \"바\", \"사\")\n",
        "type(tuple_ko_key)"
      ],
      "execution_count": 107,
      "outputs": [
        {
          "output_type": "execute_result",
          "data": {
            "text/plain": [
              "tuple"
            ]
          },
          "metadata": {
            "tags": []
          },
          "execution_count": 107
        }
      ]
    },
    {
      "cell_type": "code",
      "metadata": {
        "id": "TraBHdXrXWl4",
        "outputId": "5b2e2f51-ca4f-4d6b-d724-49b0445e5dab",
        "colab": {
          "base_uri": "https://localhost:8080/",
          "height": 172
        }
      },
      "source": [
        "tuple_ko_key[2] = \"튜플 내 인덱스 2를 변경하고 싶어\""
      ],
      "execution_count": 103,
      "outputs": [
        {
          "output_type": "error",
          "ename": "TypeError",
          "evalue": "ignored",
          "traceback": [
            "\u001b[0;31m---------------------------------------------------------------------------\u001b[0m",
            "\u001b[0;31mTypeError\u001b[0m                                 Traceback (most recent call last)",
            "\u001b[0;32m<ipython-input-103-7ee7ee68c8ad>\u001b[0m in \u001b[0;36m<module>\u001b[0;34m()\u001b[0m\n\u001b[0;32m----> 1\u001b[0;31m \u001b[0mtuple_ko_key\u001b[0m\u001b[0;34m[\u001b[0m\u001b[0;36m2\u001b[0m\u001b[0;34m]\u001b[0m \u001b[0;34m=\u001b[0m \u001b[0;34m\"튜플 내 인덱스 2를 변경하고 싶어\"\u001b[0m\u001b[0;34m\u001b[0m\u001b[0;34m\u001b[0m\u001b[0m\n\u001b[0m",
            "\u001b[0;31mTypeError\u001b[0m: 'tuple' object does not support item assignment"
          ]
        }
      ]
    },
    {
      "cell_type": "code",
      "metadata": {
        "id": "grJzZ04SXicE",
        "outputId": "ffeb148c-e753-414a-d27e-505685f0f6fb",
        "colab": {
          "base_uri": "https://localhost:8080/",
          "height": 172
        }
      },
      "source": [
        "tuple_ko_key.append(\"튜플에 새로운 값을 넣고 싶어\")"
      ],
      "execution_count": 104,
      "outputs": [
        {
          "output_type": "error",
          "ename": "AttributeError",
          "evalue": "ignored",
          "traceback": [
            "\u001b[0;31m---------------------------------------------------------------------------\u001b[0m",
            "\u001b[0;31mAttributeError\u001b[0m                            Traceback (most recent call last)",
            "\u001b[0;32m<ipython-input-104-32f906d61155>\u001b[0m in \u001b[0;36m<module>\u001b[0;34m()\u001b[0m\n\u001b[0;32m----> 1\u001b[0;31m \u001b[0mtuple_ko_key\u001b[0m\u001b[0;34m.\u001b[0m\u001b[0mappend\u001b[0m\u001b[0;34m(\u001b[0m\u001b[0;34m\"튜플에 새로운 값을 넣고 싶어\"\u001b[0m\u001b[0;34m)\u001b[0m\u001b[0;34m\u001b[0m\u001b[0;34m\u001b[0m\u001b[0m\n\u001b[0m",
            "\u001b[0;31mAttributeError\u001b[0m: 'tuple' object has no attribute 'append'"
          ]
        }
      ]
    },
    {
      "cell_type": "code",
      "metadata": {
        "id": "jw9sHnJlX4JR"
      },
      "source": [
        "del tuple_ko_key"
      ],
      "execution_count": 105,
      "outputs": []
    },
    {
      "cell_type": "code",
      "metadata": {
        "id": "KJEpx18eX-dI",
        "outputId": "1f369411-a8c3-42c6-8b42-db5ee7fcfe36",
        "colab": {
          "base_uri": "https://localhost:8080/"
        }
      },
      "source": [
        "tuple_ko_key"
      ],
      "execution_count": 108,
      "outputs": [
        {
          "output_type": "execute_result",
          "data": {
            "text/plain": [
              "('가', '나', '다', '라', '마', '바', '사')"
            ]
          },
          "metadata": {
            "tags": []
          },
          "execution_count": 108
        }
      ]
    },
    {
      "cell_type": "markdown",
      "metadata": {
        "id": "Bs5bv59hYddw"
      },
      "source": [
        "리스트 : 하나의 변수에 여러 개의 값을 할당할 때 사용하고, 요소값의 추가, 변경, 삭제가 가능하다. # 많이 쓴다.\n",
        "- 대괄호 []를 사용한다.\n",
        "- 생성 이후 각 요소값들을 자유롭게 변경할 수 있다.\n"
      ]
    },
    {
      "cell_type": "code",
      "metadata": {
        "id": "_pamiSWOYeBW",
        "outputId": "3e55eb76-28b9-4e9e-d03e-198544fe72e5",
        "colab": {
          "base_uri": "https://localhost:8080/"
        }
      },
      "source": [
        "list_en_key = [\"b\", \"c\", \"d\", \"e\", \"f\", \"g\", \"h\", \"i\"]\n",
        "list_en_key"
      ],
      "execution_count": 111,
      "outputs": [
        {
          "output_type": "execute_result",
          "data": {
            "text/plain": [
              "list"
            ]
          },
          "metadata": {
            "tags": []
          },
          "execution_count": 111
        }
      ]
    },
    {
      "cell_type": "code",
      "metadata": {
        "id": "I9C3AeKRY-s7",
        "outputId": "7c4374e2-e364-407e-f28b-83a79e524129",
        "colab": {
          "base_uri": "https://localhost:8080/",
          "height": 35
        }
      },
      "source": [
        "list_en_key[1]"
      ],
      "execution_count": 112,
      "outputs": [
        {
          "output_type": "execute_result",
          "data": {
            "application/vnd.google.colaboratory.intrinsic+json": {
              "type": "string"
            },
            "text/plain": [
              "'c'"
            ]
          },
          "metadata": {
            "tags": []
          },
          "execution_count": 112
        }
      ]
    },
    {
      "cell_type": "code",
      "metadata": {
        "id": "eByhsUocZHEh"
      },
      "source": [
        "#리스트 안에 요소를 추가해봅시다.\n",
        "list_en_key.append(\"l\")"
      ],
      "execution_count": 117,
      "outputs": []
    },
    {
      "cell_type": "code",
      "metadata": {
        "id": "lFJxIqFWZQjb",
        "outputId": "eca7cbb9-a7f2-4a13-a7fe-f6325ffd4ad6",
        "colab": {
          "base_uri": "https://localhost:8080/"
        }
      },
      "source": [
        "list_en_key\n",
        "#extend()\n",
        "#insert()"
      ],
      "execution_count": 118,
      "outputs": [
        {
          "output_type": "execute_result",
          "data": {
            "text/plain": [
              "['b', 'c', 'd', 'e', 'f', 'g', 'h', 'i', 'l', 'l', 'l']"
            ]
          },
          "metadata": {
            "tags": []
          },
          "execution_count": 118
        }
      ]
    },
    {
      "cell_type": "code",
      "metadata": {
        "id": "L-tcmGIbZSs7",
        "outputId": "35e4b56c-e1e5-4902-ad5d-c4c44750938f",
        "colab": {
          "base_uri": "https://localhost:8080/"
        }
      },
      "source": [
        "#리스트 내 인덱스로 접근\n",
        "list_en_key[:]"
      ],
      "execution_count": 120,
      "outputs": [
        {
          "output_type": "execute_result",
          "data": {
            "text/plain": [
              "['b', 'c', 'd', 'e', 'f', 'g', 'h', 'i', 'l', 'l', 'l']"
            ]
          },
          "metadata": {
            "tags": []
          },
          "execution_count": 120
        }
      ]
    },
    {
      "cell_type": "code",
      "metadata": {
        "id": "3NF93yNbZoj5",
        "outputId": "76f171ec-b047-42e2-d9bf-10e6edd9d5aa",
        "colab": {
          "base_uri": "https://localhost:8080/",
          "height": 35
        }
      },
      "source": [
        "#del, pop()\n",
        "list_en_key.pop(1)"
      ],
      "execution_count": 121,
      "outputs": [
        {
          "output_type": "execute_result",
          "data": {
            "application/vnd.google.colaboratory.intrinsic+json": {
              "type": "string"
            },
            "text/plain": [
              "'c'"
            ]
          },
          "metadata": {
            "tags": []
          },
          "execution_count": 121
        }
      ]
    },
    {
      "cell_type": "code",
      "metadata": {
        "id": "OYhR9ySzZ6DJ",
        "outputId": "31f45466-e3bd-4e86-d040-7bfba078f1c8",
        "colab": {
          "base_uri": "https://localhost:8080/"
        }
      },
      "source": [
        "list_en_key.clear()\n",
        "list_en_key"
      ],
      "execution_count": 124,
      "outputs": [
        {
          "output_type": "execute_result",
          "data": {
            "text/plain": [
              "[]"
            ]
          },
          "metadata": {
            "tags": []
          },
          "execution_count": 124
        }
      ]
    },
    {
      "cell_type": "code",
      "metadata": {
        "id": "7eVfhxvyZ7ur"
      },
      "source": [
        "list_en_key.append(\"새로운 요소값을 추가할 수 있어요\")"
      ],
      "execution_count": 125,
      "outputs": []
    },
    {
      "cell_type": "markdown",
      "metadata": {
        "id": "1W3wWiunbO3h"
      },
      "source": [
        "딕셔너리 : 문자열을 기준으로 각 요소값들을 저장함, Key와 Value로 구분되어 있습니다.\n",
        "- 중괄호 {}로 만들수 있구요, **반드시** 키:값 형태로 만들어야 합니다."
      ]
    },
    {
      "cell_type": "code",
      "metadata": {
        "id": "-LPXLYZZa8F4",
        "outputId": "24378bc7-e0e8-4f24-ea26-65f5d6c43085",
        "colab": {
          "base_uri": "https://localhost:8080/"
        }
      },
      "source": [
        "student_info = {\"생년월일\":\"900224\", \"이름\":\"변민종\", \"성별\":\"남\", \"소속\":\"성균관대학교\"}\n",
        "student_info"
      ],
      "execution_count": 129,
      "outputs": [
        {
          "output_type": "execute_result",
          "data": {
            "text/plain": [
              "{'생년월일': '900224', '성별': '남', '소속': '성균관대학교', '이름': '변민종'}"
            ]
          },
          "metadata": {
            "tags": []
          },
          "execution_count": 129
        }
      ]
    },
    {
      "cell_type": "code",
      "metadata": {
        "id": "OkXI8qgjblT8",
        "outputId": "d5043fb3-e630-450d-ada5-8660687712ee",
        "colab": {
          "base_uri": "https://localhost:8080/"
        }
      },
      "source": [
        "student_info.keys()"
      ],
      "execution_count": 139,
      "outputs": [
        {
          "output_type": "execute_result",
          "data": {
            "text/plain": [
              "dict_keys(['생년월일', '이름', '성별', '소속', 'e-mail'])"
            ]
          },
          "metadata": {
            "tags": []
          },
          "execution_count": 139
        }
      ]
    },
    {
      "cell_type": "code",
      "metadata": {
        "id": "NzjOmBeEdZh9",
        "outputId": "a40a161e-3851-4f24-aa27-02010a2b3994",
        "colab": {
          "base_uri": "https://localhost:8080/"
        }
      },
      "source": [
        "student_info.values()"
      ],
      "execution_count": 138,
      "outputs": [
        {
          "output_type": "execute_result",
          "data": {
            "text/plain": [
              "dict_values(['900224', '변민종', '남', '대한민국 IT 전문가', 'byunmj24@gmail.com'])"
            ]
          },
          "metadata": {
            "tags": []
          },
          "execution_count": 138
        }
      ]
    },
    {
      "cell_type": "code",
      "metadata": {
        "id": "xwm2RCRPb4bD",
        "outputId": "c09be48b-e8b7-4787-dc67-0cf492ccf25b",
        "colab": {
          "base_uri": "https://localhost:8080/"
        }
      },
      "source": [
        "student_info[\"e-mail\"] = \"byunmj24@gmail.com\"\n",
        "student_info"
      ],
      "execution_count": 133,
      "outputs": [
        {
          "output_type": "execute_result",
          "data": {
            "text/plain": [
              "{'e-mail': 'byunmj24@gmail.com',\n",
              " '생년월일': '900224',\n",
              " '성별': '남',\n",
              " '소속': '성균관대학교',\n",
              " '이름': '변민종'}"
            ]
          },
          "metadata": {
            "tags": []
          },
          "execution_count": 133
        }
      ]
    },
    {
      "cell_type": "code",
      "metadata": {
        "id": "J48Zbjn4dMl0",
        "outputId": "3eac73b6-0c81-4212-cd78-f1ed22be1a8c",
        "colab": {
          "base_uri": "https://localhost:8080/"
        }
      },
      "source": [
        "student_info[\"소속\"] = \"대한민국 IT 전문가\"\n",
        "student_info"
      ],
      "execution_count": 134,
      "outputs": [
        {
          "output_type": "execute_result",
          "data": {
            "text/plain": [
              "{'e-mail': 'byunmj24@gmail.com',\n",
              " '생년월일': '900224',\n",
              " '성별': '남',\n",
              " '소속': '대한민국 IT 전문가',\n",
              " '이름': '변민종'}"
            ]
          },
          "metadata": {
            "tags": []
          },
          "execution_count": 134
        }
      ]
    },
    {
      "cell_type": "markdown",
      "metadata": {
        "id": "kNSraGoodtLw"
      },
      "source": [
        "집합(Set) : 딕셔너리에 있는 키만 모아놓은 형태, 값은 항상 유일함\n",
        "- 중괄호를 사용해 만들 수 있습니다.\n",
        "- 딕셔너리와는 다르게 콜론: 을 사용하지 않아요"
      ]
    },
    {
      "cell_type": "code",
      "metadata": {
        "id": "t650YuFEdlC_",
        "outputId": "bf349230-d8fd-4ca7-84df-fdf4da52eb9c",
        "colab": {
          "base_uri": "https://localhost:8080/"
        }
      },
      "source": [
        "test_set1 = {1,2,3,4,5,6,7,8,9}\n",
        "test_set1"
      ],
      "execution_count": 141,
      "outputs": [
        {
          "output_type": "execute_result",
          "data": {
            "text/plain": [
              "{1, 2, 3, 4, 5, 6, 7, 8, 9}"
            ]
          },
          "metadata": {
            "tags": []
          },
          "execution_count": 141
        }
      ]
    },
    {
      "cell_type": "code",
      "metadata": {
        "id": "XpfYNHoed8Hy",
        "outputId": "267633ca-d5b8-4f9b-82a8-07526fc6ca24",
        "colab": {
          "base_uri": "https://localhost:8080/"
        }
      },
      "source": [
        "type(test_set1)"
      ],
      "execution_count": 142,
      "outputs": [
        {
          "output_type": "execute_result",
          "data": {
            "text/plain": [
              "set"
            ]
          },
          "metadata": {
            "tags": []
          },
          "execution_count": 142
        }
      ]
    },
    {
      "cell_type": "code",
      "metadata": {
        "id": "KrWeI02heCz9",
        "outputId": "fc104418-330a-4bca-beba-c68be83bd107",
        "colab": {
          "base_uri": "https://localhost:8080/"
        }
      },
      "source": [
        "test_list = [1,2,3,4,5,6,7,8,9]\n",
        "type(test_list)"
      ],
      "execution_count": 144,
      "outputs": [
        {
          "output_type": "execute_result",
          "data": {
            "text/plain": [
              "list"
            ]
          },
          "metadata": {
            "tags": []
          },
          "execution_count": 144
        }
      ]
    },
    {
      "cell_type": "code",
      "metadata": {
        "id": "FH6_f0wBeJs9",
        "outputId": "20c8ba98-a470-4b16-96ee-c47ac80abae5",
        "colab": {
          "base_uri": "https://localhost:8080/"
        }
      },
      "source": [
        "test_set2 = set(test_list)\n",
        "type(test_set2)"
      ],
      "execution_count": 146,
      "outputs": [
        {
          "output_type": "execute_result",
          "data": {
            "text/plain": [
              "set"
            ]
          },
          "metadata": {
            "tags": []
          },
          "execution_count": 146
        }
      ]
    },
    {
      "cell_type": "markdown",
      "metadata": {
        "id": "CsQ6EmiQfrkt"
      },
      "source": [
        "제어문 - 조건(If)"
      ]
    },
    {
      "cell_type": "code",
      "metadata": {
        "id": "X7kAUvPsfuuc",
        "outputId": "d89dbf4b-80e6-4012-fb16-963fd501b0f3",
        "colab": {
          "base_uri": "https://localhost:8080/"
        }
      },
      "source": [
        "age = 20\n",
        "if age > 19:\n",
        "  print(\"성인입니다.\")"
      ],
      "execution_count": 147,
      "outputs": [
        {
          "output_type": "stream",
          "text": [
            "성인입니다.\n"
          ],
          "name": "stdout"
        }
      ]
    },
    {
      "cell_type": "code",
      "metadata": {
        "id": "lUN2FsCNf4DX",
        "outputId": "3ee5673a-27d0-41b1-96cb-058a07a7ba8c",
        "colab": {
          "base_uri": "https://localhost:8080/"
        }
      },
      "source": [
        "if age >19: print(\"성인입니다.\")"
      ],
      "execution_count": 148,
      "outputs": [
        {
          "output_type": "stream",
          "text": [
            "성인입니다.\n"
          ],
          "name": "stdout"
        }
      ]
    },
    {
      "cell_type": "code",
      "metadata": {
        "id": "VV6fL-Pkf9X9"
      },
      "source": [
        "a = 7\n",
        "if a == 3:\n",
        "  print(\"3이 맞습니다.\")"
      ],
      "execution_count": 150,
      "outputs": []
    },
    {
      "cell_type": "code",
      "metadata": {
        "id": "yDQfCvMsgFFj",
        "outputId": "70f713e3-5b8e-4072-bd2c-39d9b18176e5",
        "colab": {
          "base_uri": "https://localhost:8080/"
        }
      },
      "source": [
        "number = input(\"정수를 입력하세요:  \")\n",
        "number = int(float(number))\n",
        "\n",
        "if number > 0:\n",
        "  print(\"양의 정수입니다.\")\n",
        "\n",
        "if number < 0:\n",
        "  print(\"음의 정수입니다.\")\n",
        "\n",
        "if number == 0:\n",
        "  print(\"0입니다. \")\n",
        "             "
      ],
      "execution_count": 162,
      "outputs": [
        {
          "output_type": "stream",
          "text": [
            "정수를 입력하세요:  12\n",
            "양의 정수입니다.\n"
          ],
          "name": "stdout"
        }
      ]
    },
    {
      "cell_type": "markdown",
      "metadata": {
        "id": "dDwXyqfOiZRn"
      },
      "source": [
        "제어문 - 반복구문 while"
      ]
    },
    {
      "cell_type": "code",
      "metadata": {
        "id": "fIUbt8U6ibMt",
        "outputId": "d548ae89-afcf-4d83-83cb-d99e3de474ce",
        "colab": {
          "base_uri": "https://localhost:8080/"
        }
      },
      "source": [
        "i = 1\n",
        "while i <= 5:\n",
        "  print(i, \"번째 반복입니다\")\n",
        "  i += 1"
      ],
      "execution_count": 163,
      "outputs": [
        {
          "output_type": "stream",
          "text": [
            "1 번째 반복입니다\n",
            "2 번째 반복입니다\n",
            "3 번째 반복입니다\n",
            "4 번째 반복입니다\n",
            "5 번째 반복입니다\n"
          ],
          "name": "stdout"
        }
      ]
    },
    {
      "cell_type": "code",
      "metadata": {
        "id": "ucKDLmAfihLL",
        "outputId": "5948e694-4d57-42c9-c9a3-99c99e6eb8f6",
        "colab": {
          "base_uri": "https://localhost:8080/"
        }
      },
      "source": [
        "import time\n",
        "output = 0\n",
        "\n",
        "target_tick = time.time() + 5\n",
        "\n",
        "while time.time() < target_tick:\n",
        "  output += 1\n",
        "\n",
        "print(\"5초간 반복연산한 횟수:\", output)"
      ],
      "execution_count": 165,
      "outputs": [
        {
          "output_type": "stream",
          "text": [
            "5초간 반복연산한 횟수: 26973953\n"
          ],
          "name": "stdout"
        }
      ]
    },
    {
      "cell_type": "markdown",
      "metadata": {
        "id": "Nop1n4PZkGC_"
      },
      "source": [
        "제어문 - 반복구문 for"
      ]
    },
    {
      "cell_type": "code",
      "metadata": {
        "id": "DRZYVIzckf9h",
        "outputId": "38bdcd26-bf88-4666-9de1-ad2d198cea07",
        "colab": {
          "base_uri": "https://localhost:8080/"
        }
      },
      "source": [
        "for i in [2,3,5,7,9]:\n",
        "  print(i,\"번째 반복입니다.\")"
      ],
      "execution_count": 167,
      "outputs": [
        {
          "output_type": "stream",
          "text": [
            "2 번째 반복입니다.\n",
            "3 번째 반복입니다.\n",
            "5 번째 반복입니다.\n",
            "7 번째 반복입니다.\n",
            "9 번째 반복입니다.\n"
          ],
          "name": "stdout"
        }
      ]
    },
    {
      "cell_type": "code",
      "metadata": {
        "id": "B9nRfNDekmjN"
      },
      "source": [
        ""
      ],
      "execution_count": null,
      "outputs": []
    }
  ]
}