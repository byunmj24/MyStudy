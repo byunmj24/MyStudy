{
  "nbformat": 4,
  "nbformat_minor": 0,
  "metadata": {
    "colab": {
      "name": "Untitled6.ipynb",
      "provenance": [],
      "authorship_tag": "ABX9TyMYokH3k3H+hjJ+fNKjm+nv",
      "include_colab_link": true
    },
    "kernelspec": {
      "name": "python3",
      "display_name": "Python 3"
    }
  },
  "cells": [
    {
      "cell_type": "markdown",
      "metadata": {
        "id": "view-in-github",
        "colab_type": "text"
      },
      "source": [
        "<a href=\"https://colab.research.google.com/github/byunmj24/MyStudy/blob/master/practice3.ipynb\" target=\"_parent\"><img src=\"https://colab.research.google.com/assets/colab-badge.svg\" alt=\"Open In Colab\"/></a>"
      ]
    },
    {
      "cell_type": "code",
      "metadata": {
        "id": "LUXNw9jxeyAo"
      },
      "source": [
        "import pandas as pd\n",
        "import numpy as np\n",
        "from scipy import stats\n",
        "import matplotlib.pyplot as plt\n",
        "%matplotlib inline"
      ],
      "execution_count": 1,
      "outputs": []
    },
    {
      "cell_type": "code",
      "metadata": {
        "id": "BuirgiEtfWj6"
      },
      "source": [
        "View = pd.read_csv('ab_test_view.csv')\n",
        "Click = pd.read_csv('ab_test_click.csv')"
      ],
      "execution_count": 2,
      "outputs": []
    },
    {
      "cell_type": "code",
      "metadata": {
        "id": "WNveVzpzf1bJ",
        "outputId": "48d4b5e6-9a48-4b6c-8e4a-b00f22a46afb",
        "colab": {
          "base_uri": "https://localhost:8080/"
        }
      },
      "source": [
        "View.info()"
      ],
      "execution_count": 3,
      "outputs": [
        {
          "output_type": "stream",
          "text": [
            "<class 'pandas.core.frame.DataFrame'>\n",
            "RangeIndex: 87924 entries, 0 to 87923\n",
            "Data columns (total 6 columns):\n",
            " #   Column          Non-Null Count  Dtype \n",
            "---  ------          --------------  ----- \n",
            " 0   log_date        87924 non-null  object\n",
            " 1   app_name        87924 non-null  object\n",
            " 2   test_name       87924 non-null  object\n",
            " 3   test_case       87924 non-null  object\n",
            " 4   user_id         87924 non-null  int64 \n",
            " 5   transaction_id  87924 non-null  int64 \n",
            "dtypes: int64(2), object(4)\n",
            "memory usage: 4.0+ MB\n"
          ],
          "name": "stdout"
        }
      ]
    },
    {
      "cell_type": "code",
      "metadata": {
        "id": "fiqHaIzGf3Yp",
        "outputId": "cd1f5be0-b7fe-4d73-c5e5-9acf851197d2",
        "colab": {
          "base_uri": "https://localhost:8080/"
        }
      },
      "source": [
        "Click.info()"
      ],
      "execution_count": 4,
      "outputs": [
        {
          "output_type": "stream",
          "text": [
            "<class 'pandas.core.frame.DataFrame'>\n",
            "RangeIndex: 8598 entries, 0 to 8597\n",
            "Data columns (total 6 columns):\n",
            " #   Column          Non-Null Count  Dtype \n",
            "---  ------          --------------  ----- \n",
            " 0   log_date        8598 non-null   object\n",
            " 1   app_name        8598 non-null   object\n",
            " 2   test_name       8598 non-null   object\n",
            " 3   test_case       8598 non-null   object\n",
            " 4   user_id         8598 non-null   int64 \n",
            " 5   transaction_id  8598 non-null   int64 \n",
            "dtypes: int64(2), object(4)\n",
            "memory usage: 403.2+ KB\n"
          ],
          "name": "stdout"
        }
      ]
    },
    {
      "cell_type": "code",
      "metadata": {
        "id": "x1IwewYpf4nq",
        "outputId": "bde5b484-d517-4296-c9b0-48727a534b9f",
        "colab": {
          "base_uri": "https://localhost:8080/"
        }
      },
      "source": [
        "# 데이터 전처리\n",
        "# 각 데이터들을 결합\n",
        "\n",
        "ViewClick = View.merge(Click, on=['transaction_id'], how='outer')\n",
        "ViewClick.info()"
      ],
      "execution_count": 5,
      "outputs": [
        {
          "output_type": "stream",
          "text": [
            "<class 'pandas.core.frame.DataFrame'>\n",
            "Int64Index: 87927 entries, 0 to 87926\n",
            "Data columns (total 11 columns):\n",
            " #   Column          Non-Null Count  Dtype  \n",
            "---  ------          --------------  -----  \n",
            " 0   log_date_x      87924 non-null  object \n",
            " 1   app_name_x      87924 non-null  object \n",
            " 2   test_name_x     87924 non-null  object \n",
            " 3   test_case_x     87924 non-null  object \n",
            " 4   user_id_x       87924 non-null  float64\n",
            " 5   transaction_id  87927 non-null  int64  \n",
            " 6   log_date_y      8598 non-null   object \n",
            " 7   app_name_y      8598 non-null   object \n",
            " 8   test_name_y     8598 non-null   object \n",
            " 9   test_case_y     8598 non-null   object \n",
            " 10  user_id_y       8598 non-null   float64\n",
            "dtypes: float64(2), int64(1), object(8)\n",
            "memory usage: 8.0+ MB\n"
          ],
          "name": "stdout"
        }
      ]
    },
    {
      "cell_type": "code",
      "metadata": {
        "id": "ySnx-VZ7gFEF",
        "outputId": "ffc44302-c742-4af5-f805-bb2fa4a18825",
        "colab": {
          "base_uri": "https://localhost:8080/",
          "height": 224
        }
      },
      "source": [
        "ViewClick[:5]"
      ],
      "execution_count": 6,
      "outputs": [
        {
          "output_type": "execute_result",
          "data": {
            "text/html": [
              "<div>\n",
              "<style scoped>\n",
              "    .dataframe tbody tr th:only-of-type {\n",
              "        vertical-align: middle;\n",
              "    }\n",
              "\n",
              "    .dataframe tbody tr th {\n",
              "        vertical-align: top;\n",
              "    }\n",
              "\n",
              "    .dataframe thead th {\n",
              "        text-align: right;\n",
              "    }\n",
              "</style>\n",
              "<table border=\"1\" class=\"dataframe\">\n",
              "  <thead>\n",
              "    <tr style=\"text-align: right;\">\n",
              "      <th></th>\n",
              "      <th>log_date_x</th>\n",
              "      <th>app_name_x</th>\n",
              "      <th>test_name_x</th>\n",
              "      <th>test_case_x</th>\n",
              "      <th>user_id_x</th>\n",
              "      <th>transaction_id</th>\n",
              "      <th>log_date_y</th>\n",
              "      <th>app_name_y</th>\n",
              "      <th>test_name_y</th>\n",
              "      <th>test_case_y</th>\n",
              "      <th>user_id_y</th>\n",
              "    </tr>\n",
              "  </thead>\n",
              "  <tbody>\n",
              "    <tr>\n",
              "      <th>0</th>\n",
              "      <td>2019-10-01</td>\n",
              "      <td>game-01</td>\n",
              "      <td>sales_test</td>\n",
              "      <td>B</td>\n",
              "      <td>36703.0</td>\n",
              "      <td>25622</td>\n",
              "      <td>NaN</td>\n",
              "      <td>NaN</td>\n",
              "      <td>NaN</td>\n",
              "      <td>NaN</td>\n",
              "      <td>NaN</td>\n",
              "    </tr>\n",
              "    <tr>\n",
              "      <th>1</th>\n",
              "      <td>2019-10-01</td>\n",
              "      <td>game-01</td>\n",
              "      <td>sales_test</td>\n",
              "      <td>A</td>\n",
              "      <td>44339.0</td>\n",
              "      <td>25623</td>\n",
              "      <td>NaN</td>\n",
              "      <td>NaN</td>\n",
              "      <td>NaN</td>\n",
              "      <td>NaN</td>\n",
              "      <td>NaN</td>\n",
              "    </tr>\n",
              "    <tr>\n",
              "      <th>2</th>\n",
              "      <td>2019-10-01</td>\n",
              "      <td>game-01</td>\n",
              "      <td>sales_test</td>\n",
              "      <td>B</td>\n",
              "      <td>32087.0</td>\n",
              "      <td>25624</td>\n",
              "      <td>NaN</td>\n",
              "      <td>NaN</td>\n",
              "      <td>NaN</td>\n",
              "      <td>NaN</td>\n",
              "      <td>NaN</td>\n",
              "    </tr>\n",
              "    <tr>\n",
              "      <th>3</th>\n",
              "      <td>2019-10-01</td>\n",
              "      <td>game-01</td>\n",
              "      <td>sales_test</td>\n",
              "      <td>B</td>\n",
              "      <td>10160.0</td>\n",
              "      <td>25625</td>\n",
              "      <td>NaN</td>\n",
              "      <td>NaN</td>\n",
              "      <td>NaN</td>\n",
              "      <td>NaN</td>\n",
              "      <td>NaN</td>\n",
              "    </tr>\n",
              "    <tr>\n",
              "      <th>4</th>\n",
              "      <td>2019-10-01</td>\n",
              "      <td>game-01</td>\n",
              "      <td>sales_test</td>\n",
              "      <td>B</td>\n",
              "      <td>46113.0</td>\n",
              "      <td>25626</td>\n",
              "      <td>NaN</td>\n",
              "      <td>NaN</td>\n",
              "      <td>NaN</td>\n",
              "      <td>NaN</td>\n",
              "      <td>NaN</td>\n",
              "    </tr>\n",
              "  </tbody>\n",
              "</table>\n",
              "</div>"
            ],
            "text/plain": [
              "   log_date_x app_name_x test_name_x  ... test_name_y  test_case_y  user_id_y\n",
              "0  2019-10-01    game-01  sales_test  ...         NaN          NaN        NaN\n",
              "1  2019-10-01    game-01  sales_test  ...         NaN          NaN        NaN\n",
              "2  2019-10-01    game-01  sales_test  ...         NaN          NaN        NaN\n",
              "3  2019-10-01    game-01  sales_test  ...         NaN          NaN        NaN\n",
              "4  2019-10-01    game-01  sales_test  ...         NaN          NaN        NaN\n",
              "\n",
              "[5 rows x 11 columns]"
            ]
          },
          "metadata": {
            "tags": []
          },
          "execution_count": 6
        }
      ]
    },
    {
      "cell_type": "code",
      "metadata": {
        "id": "rewxkG0RgUOb"
      },
      "source": [
        "# 일자별 정렬하기 위해 날짜 처리\n",
        "ViewClick['log_date_x'] = ViewClick['log_date_x'].apply(lambda x:pd.to_datetime(str(x)))"
      ],
      "execution_count": 7,
      "outputs": []
    },
    {
      "cell_type": "code",
      "metadata": {
        "id": "t6z5KCOogzfM",
        "outputId": "2c28f2ca-f2c1-45d7-eeaf-52610b514e8f",
        "colab": {
          "base_uri": "https://localhost:8080/"
        }
      },
      "source": [
        "ViewClick.info()"
      ],
      "execution_count": 8,
      "outputs": [
        {
          "output_type": "stream",
          "text": [
            "<class 'pandas.core.frame.DataFrame'>\n",
            "Int64Index: 87927 entries, 0 to 87926\n",
            "Data columns (total 11 columns):\n",
            " #   Column          Non-Null Count  Dtype         \n",
            "---  ------          --------------  -----         \n",
            " 0   log_date_x      87924 non-null  datetime64[ns]\n",
            " 1   app_name_x      87924 non-null  object        \n",
            " 2   test_name_x     87924 non-null  object        \n",
            " 3   test_case_x     87924 non-null  object        \n",
            " 4   user_id_x       87924 non-null  float64       \n",
            " 5   transaction_id  87927 non-null  int64         \n",
            " 6   log_date_y      8598 non-null   object        \n",
            " 7   app_name_y      8598 non-null   object        \n",
            " 8   test_name_y     8598 non-null   object        \n",
            " 9   test_case_y     8598 non-null   object        \n",
            " 10  user_id_y       8598 non-null   float64       \n",
            "dtypes: datetime64[ns](1), float64(2), int64(1), object(7)\n",
            "memory usage: 8.0+ MB\n"
          ],
          "name": "stdout"
        }
      ]
    },
    {
      "cell_type": "code",
      "metadata": {
        "id": "K-mrOLIxg3WB"
      },
      "source": [
        "# 광고별로 클릭률에 대한 지표를 설정\n",
        "# 데이터프레임 Click에서 User_id 값이 존재하면 \"광고를 클릭\"한 것임\n",
        "# ViewClick 데이터프레임에 \"is_click\" 열을 만들고, \"User_id_y\"값이 True이면 0, 그렇지 않으면 1로 표시\n",
        "ViewClick[\"is_click\"] = np.where(pd.isnull(ViewClick['user_id_y'])==True, 0, 1)"
      ],
      "execution_count": 9,
      "outputs": []
    },
    {
      "cell_type": "code",
      "metadata": {
        "id": "z67FRAwmiQlK",
        "outputId": "227aaf84-9c94-4cd9-afba-88b2e44d47fd",
        "colab": {
          "base_uri": "https://localhost:8080/",
          "height": 439
        }
      },
      "source": [
        "ViewClick[1003:]"
      ],
      "execution_count": 10,
      "outputs": [
        {
          "output_type": "execute_result",
          "data": {
            "text/html": [
              "<div>\n",
              "<style scoped>\n",
              "    .dataframe tbody tr th:only-of-type {\n",
              "        vertical-align: middle;\n",
              "    }\n",
              "\n",
              "    .dataframe tbody tr th {\n",
              "        vertical-align: top;\n",
              "    }\n",
              "\n",
              "    .dataframe thead th {\n",
              "        text-align: right;\n",
              "    }\n",
              "</style>\n",
              "<table border=\"1\" class=\"dataframe\">\n",
              "  <thead>\n",
              "    <tr style=\"text-align: right;\">\n",
              "      <th></th>\n",
              "      <th>log_date_x</th>\n",
              "      <th>app_name_x</th>\n",
              "      <th>test_name_x</th>\n",
              "      <th>test_case_x</th>\n",
              "      <th>user_id_x</th>\n",
              "      <th>transaction_id</th>\n",
              "      <th>log_date_y</th>\n",
              "      <th>app_name_y</th>\n",
              "      <th>test_name_y</th>\n",
              "      <th>test_case_y</th>\n",
              "      <th>user_id_y</th>\n",
              "      <th>is_click</th>\n",
              "    </tr>\n",
              "  </thead>\n",
              "  <tbody>\n",
              "    <tr>\n",
              "      <th>1003</th>\n",
              "      <td>2019-10-01</td>\n",
              "      <td>game-01</td>\n",
              "      <td>sales_test</td>\n",
              "      <td>A</td>\n",
              "      <td>18315.0</td>\n",
              "      <td>26625</td>\n",
              "      <td>2019-10-01</td>\n",
              "      <td>game-01</td>\n",
              "      <td>sales_test</td>\n",
              "      <td>A</td>\n",
              "      <td>18315.0</td>\n",
              "      <td>1</td>\n",
              "    </tr>\n",
              "    <tr>\n",
              "      <th>1004</th>\n",
              "      <td>2019-10-01</td>\n",
              "      <td>game-01</td>\n",
              "      <td>sales_test</td>\n",
              "      <td>B</td>\n",
              "      <td>15191.0</td>\n",
              "      <td>26626</td>\n",
              "      <td>NaN</td>\n",
              "      <td>NaN</td>\n",
              "      <td>NaN</td>\n",
              "      <td>NaN</td>\n",
              "      <td>NaN</td>\n",
              "      <td>0</td>\n",
              "    </tr>\n",
              "    <tr>\n",
              "      <th>1005</th>\n",
              "      <td>2019-10-01</td>\n",
              "      <td>game-01</td>\n",
              "      <td>sales_test</td>\n",
              "      <td>B</td>\n",
              "      <td>41082.0</td>\n",
              "      <td>26627</td>\n",
              "      <td>NaN</td>\n",
              "      <td>NaN</td>\n",
              "      <td>NaN</td>\n",
              "      <td>NaN</td>\n",
              "      <td>NaN</td>\n",
              "      <td>0</td>\n",
              "    </tr>\n",
              "    <tr>\n",
              "      <th>1006</th>\n",
              "      <td>2019-10-01</td>\n",
              "      <td>game-01</td>\n",
              "      <td>sales_test</td>\n",
              "      <td>A</td>\n",
              "      <td>49608.0</td>\n",
              "      <td>26628</td>\n",
              "      <td>NaN</td>\n",
              "      <td>NaN</td>\n",
              "      <td>NaN</td>\n",
              "      <td>NaN</td>\n",
              "      <td>NaN</td>\n",
              "      <td>0</td>\n",
              "    </tr>\n",
              "    <tr>\n",
              "      <th>1007</th>\n",
              "      <td>2019-10-01</td>\n",
              "      <td>game-01</td>\n",
              "      <td>sales_test</td>\n",
              "      <td>A</td>\n",
              "      <td>43412.0</td>\n",
              "      <td>26629</td>\n",
              "      <td>2019-10-01</td>\n",
              "      <td>game-01</td>\n",
              "      <td>sales_test</td>\n",
              "      <td>A</td>\n",
              "      <td>43412.0</td>\n",
              "      <td>1</td>\n",
              "    </tr>\n",
              "    <tr>\n",
              "      <th>...</th>\n",
              "      <td>...</td>\n",
              "      <td>...</td>\n",
              "      <td>...</td>\n",
              "      <td>...</td>\n",
              "      <td>...</td>\n",
              "      <td>...</td>\n",
              "      <td>...</td>\n",
              "      <td>...</td>\n",
              "      <td>...</td>\n",
              "      <td>...</td>\n",
              "      <td>...</td>\n",
              "      <td>...</td>\n",
              "    </tr>\n",
              "    <tr>\n",
              "      <th>87922</th>\n",
              "      <td>2019-10-31</td>\n",
              "      <td>game-01</td>\n",
              "      <td>sales_test</td>\n",
              "      <td>B</td>\n",
              "      <td>57610.0</td>\n",
              "      <td>85314</td>\n",
              "      <td>2019-10-31</td>\n",
              "      <td>game-01</td>\n",
              "      <td>sales_test</td>\n",
              "      <td>B</td>\n",
              "      <td>57610.0</td>\n",
              "      <td>1</td>\n",
              "    </tr>\n",
              "    <tr>\n",
              "      <th>87923</th>\n",
              "      <td>2019-10-31</td>\n",
              "      <td>game-01</td>\n",
              "      <td>sales_test</td>\n",
              "      <td>B</td>\n",
              "      <td>56445.0</td>\n",
              "      <td>85315</td>\n",
              "      <td>NaN</td>\n",
              "      <td>NaN</td>\n",
              "      <td>NaN</td>\n",
              "      <td>NaN</td>\n",
              "      <td>NaN</td>\n",
              "      <td>0</td>\n",
              "    </tr>\n",
              "    <tr>\n",
              "      <th>87924</th>\n",
              "      <td>NaT</td>\n",
              "      <td>NaN</td>\n",
              "      <td>NaN</td>\n",
              "      <td>NaN</td>\n",
              "      <td>NaN</td>\n",
              "      <td>12013</td>\n",
              "      <td>2019-10-16</td>\n",
              "      <td>game-01</td>\n",
              "      <td>sales_test</td>\n",
              "      <td>B</td>\n",
              "      <td>53400.0</td>\n",
              "      <td>1</td>\n",
              "    </tr>\n",
              "    <tr>\n",
              "      <th>87925</th>\n",
              "      <td>NaT</td>\n",
              "      <td>NaN</td>\n",
              "      <td>NaN</td>\n",
              "      <td>NaN</td>\n",
              "      <td>NaN</td>\n",
              "      <td>72013</td>\n",
              "      <td>2019-10-19</td>\n",
              "      <td>game-01</td>\n",
              "      <td>sales_test</td>\n",
              "      <td>B</td>\n",
              "      <td>52316.0</td>\n",
              "      <td>1</td>\n",
              "    </tr>\n",
              "    <tr>\n",
              "      <th>87926</th>\n",
              "      <td>NaT</td>\n",
              "      <td>NaN</td>\n",
              "      <td>NaN</td>\n",
              "      <td>NaN</td>\n",
              "      <td>NaN</td>\n",
              "      <td>20136</td>\n",
              "      <td>2019-10-21</td>\n",
              "      <td>game-01</td>\n",
              "      <td>sales_test</td>\n",
              "      <td>B</td>\n",
              "      <td>52901.0</td>\n",
              "      <td>1</td>\n",
              "    </tr>\n",
              "  </tbody>\n",
              "</table>\n",
              "<p>86924 rows × 12 columns</p>\n",
              "</div>"
            ],
            "text/plain": [
              "      log_date_x app_name_x test_name_x  ... test_case_y  user_id_y  is_click\n",
              "1003  2019-10-01    game-01  sales_test  ...           A    18315.0         1\n",
              "1004  2019-10-01    game-01  sales_test  ...         NaN        NaN         0\n",
              "1005  2019-10-01    game-01  sales_test  ...         NaN        NaN         0\n",
              "1006  2019-10-01    game-01  sales_test  ...         NaN        NaN         0\n",
              "1007  2019-10-01    game-01  sales_test  ...           A    43412.0         1\n",
              "...          ...        ...         ...  ...         ...        ...       ...\n",
              "87922 2019-10-31    game-01  sales_test  ...           B    57610.0         1\n",
              "87923 2019-10-31    game-01  sales_test  ...         NaN        NaN         0\n",
              "87924        NaT        NaN         NaN  ...           B    53400.0         1\n",
              "87925        NaT        NaN         NaN  ...           B    52316.0         1\n",
              "87926        NaT        NaN         NaN  ...           B    52901.0         1\n",
              "\n",
              "[86924 rows x 12 columns]"
            ]
          },
          "metadata": {
            "tags": []
          },
          "execution_count": 10
        }
      ]
    },
    {
      "cell_type": "code",
      "metadata": {
        "id": "V8VDnaEIiSy4",
        "outputId": "be8a27d3-de2d-4574-9a2c-f37c553b471d",
        "colab": {
          "base_uri": "https://localhost:8080/"
        }
      },
      "source": [
        "# 데이터 분석\n",
        "# 1) 광고별 클릭률 확인\n",
        "ViewClick['is_click'].groupby(ViewClick['test_case_x']).mean()\n",
        "\n",
        "# 광고 A는 클릭률  8%(0.080256)을 보이고 있음\n",
        "# 광고 B는 클릭률 11%(0.115392)를 보이고 있음\n",
        "# 따라서, 광고 B가 더 나은 결과를 보이고 있음"
      ],
      "execution_count": 11,
      "outputs": [
        {
          "output_type": "execute_result",
          "data": {
            "text/plain": [
              "test_case_x\n",
              "A    0.080256\n",
              "B    0.115392\n",
              "Name: is_click, dtype: float64"
            ]
          },
          "metadata": {
            "tags": []
          },
          "execution_count": 11
        }
      ]
    },
    {
      "cell_type": "code",
      "metadata": {
        "id": "HNY1YR0tixoL"
      },
      "source": [
        ""
      ],
      "execution_count": null,
      "outputs": []
    }
  ]
}