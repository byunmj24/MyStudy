{
  "nbformat": 4,
  "nbformat_minor": 0,
  "metadata": {
    "colab": {
      "name": "Untitled4.ipynb",
      "provenance": [],
      "authorship_tag": "ABX9TyNETWBoCk/t5fHhLpVwMniL",
      "include_colab_link": true
    },
    "kernelspec": {
      "name": "python3",
      "display_name": "Python 3"
    }
  },
  "cells": [
    {
      "cell_type": "markdown",
      "metadata": {
        "id": "view-in-github",
        "colab_type": "text"
      },
      "source": [
        "<a href=\"https://colab.research.google.com/github/byunmj24/MyStudy/blob/master/practice1.ipynb\" target=\"_parent\"><img src=\"https://colab.research.google.com/assets/colab-badge.svg\" alt=\"Open In Colab\"/></a>"
      ]
    },
    {
      "cell_type": "markdown",
      "metadata": {
        "id": "HF7iOJRqa9el"
      },
      "source": [
        "매출이 왜 감소하고 있는가?"
      ]
    },
    {
      "cell_type": "code",
      "metadata": {
        "id": "dWGJO3EJbBkv"
      },
      "source": [
        "# Loading Data (라이브러리와 데이터를 불러오기)\n",
        "import pandas as pd\n",
        "import numpy as np\n",
        "import matplotlib.pyplot as plt\n",
        "%matplotlib inline \n",
        "import seaborn as sns"
      ],
      "execution_count": 1,
      "outputs": []
    },
    {
      "cell_type": "code",
      "metadata": {
        "id": "WBIEppyobcLN"
      },
      "source": [
        "# 데이터를 가져와서 각 변수에 할당하기\n",
        "dau = pd.read_csv('dau.csv', engine='python')\n",
        "dpu = pd.read_csv('dpu.csv', engine='python')\n",
        "install = pd.read_csv('install.csv', encoding=\"UTF-8\")"
      ],
      "execution_count": 2,
      "outputs": []
    },
    {
      "cell_type": "code",
      "metadata": {
        "id": "ddBt6gNJdJhs",
        "outputId": "f64ab7c6-a853-4e7a-9966-788eadeb3bd4",
        "colab": {
          "base_uri": "https://localhost:8080/",
          "height": 204
        }
      },
      "source": [
        "install.head()"
      ],
      "execution_count": 3,
      "outputs": [
        {
          "output_type": "execute_result",
          "data": {
            "text/html": [
              "<div>\n",
              "<style scoped>\n",
              "    .dataframe tbody tr th:only-of-type {\n",
              "        vertical-align: middle;\n",
              "    }\n",
              "\n",
              "    .dataframe tbody tr th {\n",
              "        vertical-align: top;\n",
              "    }\n",
              "\n",
              "    .dataframe thead th {\n",
              "        text-align: right;\n",
              "    }\n",
              "</style>\n",
              "<table border=\"1\" class=\"dataframe\">\n",
              "  <thead>\n",
              "    <tr style=\"text-align: right;\">\n",
              "      <th></th>\n",
              "      <th>install_date</th>\n",
              "      <th>app_name</th>\n",
              "      <th>user_id</th>\n",
              "    </tr>\n",
              "  </thead>\n",
              "  <tbody>\n",
              "    <tr>\n",
              "      <th>0</th>\n",
              "      <td>2019-04-15</td>\n",
              "      <td>game-01</td>\n",
              "      <td>1</td>\n",
              "    </tr>\n",
              "    <tr>\n",
              "      <th>1</th>\n",
              "      <td>2019-04-15</td>\n",
              "      <td>game-01</td>\n",
              "      <td>2</td>\n",
              "    </tr>\n",
              "    <tr>\n",
              "      <th>2</th>\n",
              "      <td>2019-04-15</td>\n",
              "      <td>game-01</td>\n",
              "      <td>3</td>\n",
              "    </tr>\n",
              "    <tr>\n",
              "      <th>3</th>\n",
              "      <td>2019-04-15</td>\n",
              "      <td>game-01</td>\n",
              "      <td>4</td>\n",
              "    </tr>\n",
              "    <tr>\n",
              "      <th>4</th>\n",
              "      <td>2019-04-15</td>\n",
              "      <td>game-01</td>\n",
              "      <td>5</td>\n",
              "    </tr>\n",
              "  </tbody>\n",
              "</table>\n",
              "</div>"
            ],
            "text/plain": [
              "  install_date app_name  user_id\n",
              "0   2019-04-15  game-01        1\n",
              "1   2019-04-15  game-01        2\n",
              "2   2019-04-15  game-01        3\n",
              "3   2019-04-15  game-01        4\n",
              "4   2019-04-15  game-01        5"
            ]
          },
          "metadata": {
            "tags": []
          },
          "execution_count": 3
        }
      ]
    },
    {
      "cell_type": "code",
      "metadata": {
        "id": "fDBSBGq1dhFF",
        "outputId": "44280651-ba96-4683-8e15-9a25510a5659",
        "colab": {
          "base_uri": "https://localhost:8080/"
        }
      },
      "source": [
        "dau.info()"
      ],
      "execution_count": 4,
      "outputs": [
        {
          "output_type": "stream",
          "text": [
            "<class 'pandas.core.frame.DataFrame'>\n",
            "RangeIndex: 139112 entries, 0 to 139111\n",
            "Data columns (total 3 columns):\n",
            " #   Column    Non-Null Count   Dtype \n",
            "---  ------    --------------   ----- \n",
            " 0   log_date  139112 non-null  object\n",
            " 1   app_name  139112 non-null  object\n",
            " 2   user_id   139112 non-null  int64 \n",
            "dtypes: int64(1), object(2)\n",
            "memory usage: 3.2+ MB\n"
          ],
          "name": "stdout"
        }
      ]
    },
    {
      "cell_type": "code",
      "metadata": {
        "id": "wtvSL9H3dqgg",
        "outputId": "76dbf6a6-f6fb-4020-cdae-6db60273866b",
        "colab": {
          "base_uri": "https://localhost:8080/"
        }
      },
      "source": [
        "# 분석을 위해 3개의 변수를 결합하기\n",
        "# install + Dau + Dpu\n",
        "InstallDau = install.merge(dau,  on=['user_id', 'app_name'])\n",
        "InstallDau.info()"
      ],
      "execution_count": 7,
      "outputs": [
        {
          "output_type": "stream",
          "text": [
            "<class 'pandas.core.frame.DataFrame'>\n",
            "Int64Index: 139112 entries, 0 to 139111\n",
            "Data columns (total 4 columns):\n",
            " #   Column        Non-Null Count   Dtype \n",
            "---  ------        --------------   ----- \n",
            " 0   install_date  139112 non-null  object\n",
            " 1   app_name      139112 non-null  object\n",
            " 2   user_id       139112 non-null  int64 \n",
            " 3   log_date      139112 non-null  object\n",
            "dtypes: int64(1), object(3)\n",
            "memory usage: 5.3+ MB\n"
          ],
          "name": "stdout"
        }
      ]
    },
    {
      "cell_type": "code",
      "metadata": {
        "id": "8I0fnjNFeE8g",
        "outputId": "383c3ac7-24aa-4d42-d386-694fa37e9897",
        "colab": {
          "base_uri": "https://localhost:8080/"
        }
      },
      "source": [
        "# 다시 Dpu 데이터를 결합하기\n",
        "InstallDauPayment = InstallDau.merge(dpu, on=['log_date', 'app_name', 'user_id'], how='outer')\n",
        "\n",
        "InstallDauPayment.info()"
      ],
      "execution_count": 11,
      "outputs": [
        {
          "output_type": "stream",
          "text": [
            "<class 'pandas.core.frame.DataFrame'>\n",
            "Int64Index: 139295 entries, 0 to 139294\n",
            "Data columns (total 5 columns):\n",
            " #   Column        Non-Null Count   Dtype  \n",
            "---  ------        --------------   -----  \n",
            " 0   install_date  139295 non-null  object \n",
            " 1   app_name      139295 non-null  object \n",
            " 2   user_id       139295 non-null  int64  \n",
            " 3   log_date      139295 non-null  object \n",
            " 4   payment       884 non-null     float64\n",
            "dtypes: float64(1), int64(1), object(3)\n",
            "memory usage: 6.4+ MB\n"
          ],
          "name": "stdout"
        }
      ]
    },
    {
      "cell_type": "code",
      "metadata": {
        "id": "_xQu0xCkfHQl"
      },
      "source": [
        "# 분석대상 데이터(InstallDauPayment)를 결측치 0으로 대체\n",
        "# -> 왜 0으로? : Null 값은 계산에서 제외되기 때문입니다.\n",
        "# -> 우리에게 필요한 것은 매출액 현황을 보는 것이기 때문에,\n",
        "# 계산되지 않는 Null값이 아닌, 0값이 필요합니다.\n",
        "InstallDauPayment = InstallDauPayment.fillna(0)"
      ],
      "execution_count": 13,
      "outputs": []
    },
    {
      "cell_type": "code",
      "metadata": {
        "id": "N0GiNpM_ho2L"
      },
      "source": [
        "# 월별로 고객 현황 비교를 위해 문자 처리\n",
        "\n",
        "# Install_date열을 기존 Install_date의 앞에서 7번쨰 값으로 치환\n",
        "InstallDauPayment[\"install_date\"] = InstallDauPayment['install_date'].str[:7]\n",
        "\n",
        "InstallDauPayment[\"log_date\"] = InstallDauPayment['log_date'].str[:7]"
      ],
      "execution_count": 16,
      "outputs": []
    },
    {
      "cell_type": "code",
      "metadata": {
        "id": "O3dI_2aRiQwx",
        "outputId": "fe5054ba-84fd-4cae-e917-fba1c69ba587",
        "colab": {
          "base_uri": "https://localhost:8080/",
          "height": 419
        }
      },
      "source": [
        "InstallDauPayment"
      ],
      "execution_count": 17,
      "outputs": [
        {
          "output_type": "execute_result",
          "data": {
            "text/html": [
              "<div>\n",
              "<style scoped>\n",
              "    .dataframe tbody tr th:only-of-type {\n",
              "        vertical-align: middle;\n",
              "    }\n",
              "\n",
              "    .dataframe tbody tr th {\n",
              "        vertical-align: top;\n",
              "    }\n",
              "\n",
              "    .dataframe thead th {\n",
              "        text-align: right;\n",
              "    }\n",
              "</style>\n",
              "<table border=\"1\" class=\"dataframe\">\n",
              "  <thead>\n",
              "    <tr style=\"text-align: right;\">\n",
              "      <th></th>\n",
              "      <th>install_date</th>\n",
              "      <th>app_name</th>\n",
              "      <th>user_id</th>\n",
              "      <th>log_date</th>\n",
              "      <th>payment</th>\n",
              "    </tr>\n",
              "  </thead>\n",
              "  <tbody>\n",
              "    <tr>\n",
              "      <th>0</th>\n",
              "      <td>2019-04</td>\n",
              "      <td>game-01</td>\n",
              "      <td>1</td>\n",
              "      <td>2019-06</td>\n",
              "      <td>0.0</td>\n",
              "    </tr>\n",
              "    <tr>\n",
              "      <th>1</th>\n",
              "      <td>2019-04</td>\n",
              "      <td>game-01</td>\n",
              "      <td>1</td>\n",
              "      <td>2019-06</td>\n",
              "      <td>0.0</td>\n",
              "    </tr>\n",
              "    <tr>\n",
              "      <th>2</th>\n",
              "      <td>2019-04</td>\n",
              "      <td>game-01</td>\n",
              "      <td>1</td>\n",
              "      <td>2019-06</td>\n",
              "      <td>0.0</td>\n",
              "    </tr>\n",
              "    <tr>\n",
              "      <th>3</th>\n",
              "      <td>2019-04</td>\n",
              "      <td>game-01</td>\n",
              "      <td>1</td>\n",
              "      <td>2019-06</td>\n",
              "      <td>0.0</td>\n",
              "    </tr>\n",
              "    <tr>\n",
              "      <th>4</th>\n",
              "      <td>2019-04</td>\n",
              "      <td>game-01</td>\n",
              "      <td>1</td>\n",
              "      <td>2019-06</td>\n",
              "      <td>0.0</td>\n",
              "    </tr>\n",
              "    <tr>\n",
              "      <th>...</th>\n",
              "      <td>...</td>\n",
              "      <td>...</td>\n",
              "      <td>...</td>\n",
              "      <td>...</td>\n",
              "      <td>...</td>\n",
              "    </tr>\n",
              "    <tr>\n",
              "      <th>139290</th>\n",
              "      <td>2019-07</td>\n",
              "      <td>game-01</td>\n",
              "      <td>29326</td>\n",
              "      <td>2019-07</td>\n",
              "      <td>0.0</td>\n",
              "    </tr>\n",
              "    <tr>\n",
              "      <th>139291</th>\n",
              "      <td>2019-07</td>\n",
              "      <td>game-01</td>\n",
              "      <td>29327</td>\n",
              "      <td>2019-07</td>\n",
              "      <td>0.0</td>\n",
              "    </tr>\n",
              "    <tr>\n",
              "      <th>139292</th>\n",
              "      <td>2019-07</td>\n",
              "      <td>game-01</td>\n",
              "      <td>29328</td>\n",
              "      <td>2019-07</td>\n",
              "      <td>0.0</td>\n",
              "    </tr>\n",
              "    <tr>\n",
              "      <th>139293</th>\n",
              "      <td>2019-07</td>\n",
              "      <td>game-01</td>\n",
              "      <td>29329</td>\n",
              "      <td>2019-07</td>\n",
              "      <td>0.0</td>\n",
              "    </tr>\n",
              "    <tr>\n",
              "      <th>139294</th>\n",
              "      <td>2019-07</td>\n",
              "      <td>game-01</td>\n",
              "      <td>29330</td>\n",
              "      <td>2019-07</td>\n",
              "      <td>0.0</td>\n",
              "    </tr>\n",
              "  </tbody>\n",
              "</table>\n",
              "<p>139295 rows × 5 columns</p>\n",
              "</div>"
            ],
            "text/plain": [
              "       install_date app_name  user_id log_date  payment\n",
              "0           2019-04  game-01        1  2019-06      0.0\n",
              "1           2019-04  game-01        1  2019-06      0.0\n",
              "2           2019-04  game-01        1  2019-06      0.0\n",
              "3           2019-04  game-01        1  2019-06      0.0\n",
              "4           2019-04  game-01        1  2019-06      0.0\n",
              "...             ...      ...      ...      ...      ...\n",
              "139290      2019-07  game-01    29326  2019-07      0.0\n",
              "139291      2019-07  game-01    29327  2019-07      0.0\n",
              "139292      2019-07  game-01    29328  2019-07      0.0\n",
              "139293      2019-07  game-01    29329  2019-07      0.0\n",
              "139294      2019-07  game-01    29330  2019-07      0.0\n",
              "\n",
              "[139295 rows x 5 columns]"
            ]
          },
          "metadata": {
            "tags": []
          },
          "execution_count": 17
        }
      ]
    },
    {
      "cell_type": "code",
      "metadata": {
        "id": "tqX_MbK1iZen"
      },
      "source": [
        "# 신규 유저를 정의해보기\n",
        "# -> 데이터 프레임에 'User_type'을 만들고,\n",
        "# Install 날짜와 접속일자가 같다면, (신규유저)\n",
        "# 그렇지 않으면 (기존고객)\n",
        "InstallDauPayment['user_type'] = np.where(InstallDauPayment['log_date'] == InstallDauPayment['install_date'], 'install', 'existing')"
      ],
      "execution_count": 18,
      "outputs": []
    },
    {
      "cell_type": "code",
      "metadata": {
        "id": "xoECOTNSjr8R",
        "outputId": "0ef243a8-887b-4464-b2e9-970031ac3611",
        "colab": {
          "base_uri": "https://localhost:8080/",
          "height": 359
        }
      },
      "source": [
        "InstallDauPayment[:10]"
      ],
      "execution_count": 19,
      "outputs": [
        {
          "output_type": "execute_result",
          "data": {
            "text/html": [
              "<div>\n",
              "<style scoped>\n",
              "    .dataframe tbody tr th:only-of-type {\n",
              "        vertical-align: middle;\n",
              "    }\n",
              "\n",
              "    .dataframe tbody tr th {\n",
              "        vertical-align: top;\n",
              "    }\n",
              "\n",
              "    .dataframe thead th {\n",
              "        text-align: right;\n",
              "    }\n",
              "</style>\n",
              "<table border=\"1\" class=\"dataframe\">\n",
              "  <thead>\n",
              "    <tr style=\"text-align: right;\">\n",
              "      <th></th>\n",
              "      <th>install_date</th>\n",
              "      <th>app_name</th>\n",
              "      <th>user_id</th>\n",
              "      <th>log_date</th>\n",
              "      <th>payment</th>\n",
              "      <th>user_type</th>\n",
              "    </tr>\n",
              "  </thead>\n",
              "  <tbody>\n",
              "    <tr>\n",
              "      <th>0</th>\n",
              "      <td>2019-04</td>\n",
              "      <td>game-01</td>\n",
              "      <td>1</td>\n",
              "      <td>2019-06</td>\n",
              "      <td>0.0</td>\n",
              "      <td>existing</td>\n",
              "    </tr>\n",
              "    <tr>\n",
              "      <th>1</th>\n",
              "      <td>2019-04</td>\n",
              "      <td>game-01</td>\n",
              "      <td>1</td>\n",
              "      <td>2019-06</td>\n",
              "      <td>0.0</td>\n",
              "      <td>existing</td>\n",
              "    </tr>\n",
              "    <tr>\n",
              "      <th>2</th>\n",
              "      <td>2019-04</td>\n",
              "      <td>game-01</td>\n",
              "      <td>1</td>\n",
              "      <td>2019-06</td>\n",
              "      <td>0.0</td>\n",
              "      <td>existing</td>\n",
              "    </tr>\n",
              "    <tr>\n",
              "      <th>3</th>\n",
              "      <td>2019-04</td>\n",
              "      <td>game-01</td>\n",
              "      <td>1</td>\n",
              "      <td>2019-06</td>\n",
              "      <td>0.0</td>\n",
              "      <td>existing</td>\n",
              "    </tr>\n",
              "    <tr>\n",
              "      <th>4</th>\n",
              "      <td>2019-04</td>\n",
              "      <td>game-01</td>\n",
              "      <td>1</td>\n",
              "      <td>2019-06</td>\n",
              "      <td>0.0</td>\n",
              "      <td>existing</td>\n",
              "    </tr>\n",
              "    <tr>\n",
              "      <th>5</th>\n",
              "      <td>2019-04</td>\n",
              "      <td>game-01</td>\n",
              "      <td>1</td>\n",
              "      <td>2019-06</td>\n",
              "      <td>0.0</td>\n",
              "      <td>existing</td>\n",
              "    </tr>\n",
              "    <tr>\n",
              "      <th>6</th>\n",
              "      <td>2019-04</td>\n",
              "      <td>game-01</td>\n",
              "      <td>1</td>\n",
              "      <td>2019-06</td>\n",
              "      <td>0.0</td>\n",
              "      <td>existing</td>\n",
              "    </tr>\n",
              "    <tr>\n",
              "      <th>7</th>\n",
              "      <td>2019-04</td>\n",
              "      <td>game-01</td>\n",
              "      <td>1</td>\n",
              "      <td>2019-06</td>\n",
              "      <td>0.0</td>\n",
              "      <td>existing</td>\n",
              "    </tr>\n",
              "    <tr>\n",
              "      <th>8</th>\n",
              "      <td>2019-04</td>\n",
              "      <td>game-01</td>\n",
              "      <td>1</td>\n",
              "      <td>2019-06</td>\n",
              "      <td>0.0</td>\n",
              "      <td>existing</td>\n",
              "    </tr>\n",
              "    <tr>\n",
              "      <th>9</th>\n",
              "      <td>2019-04</td>\n",
              "      <td>game-01</td>\n",
              "      <td>1</td>\n",
              "      <td>2019-06</td>\n",
              "      <td>0.0</td>\n",
              "      <td>existing</td>\n",
              "    </tr>\n",
              "  </tbody>\n",
              "</table>\n",
              "</div>"
            ],
            "text/plain": [
              "  install_date app_name  user_id log_date  payment user_type\n",
              "0      2019-04  game-01        1  2019-06      0.0  existing\n",
              "1      2019-04  game-01        1  2019-06      0.0  existing\n",
              "2      2019-04  game-01        1  2019-06      0.0  existing\n",
              "3      2019-04  game-01        1  2019-06      0.0  existing\n",
              "4      2019-04  game-01        1  2019-06      0.0  existing\n",
              "5      2019-04  game-01        1  2019-06      0.0  existing\n",
              "6      2019-04  game-01        1  2019-06      0.0  existing\n",
              "7      2019-04  game-01        1  2019-06      0.0  existing\n",
              "8      2019-04  game-01        1  2019-06      0.0  existing\n",
              "9      2019-04  game-01        1  2019-06      0.0  existing"
            ]
          },
          "metadata": {
            "tags": []
          },
          "execution_count": 19
        }
      ]
    },
    {
      "cell_type": "code",
      "metadata": {
        "id": "vgsiHlsfjwYZ",
        "outputId": "c8c725a8-5524-4307-d6c9-97149d350d55",
        "colab": {
          "base_uri": "https://localhost:8080/",
          "height": 204
        }
      },
      "source": [
        "InstallDauPayment.tail()"
      ],
      "execution_count": 20,
      "outputs": [
        {
          "output_type": "execute_result",
          "data": {
            "text/html": [
              "<div>\n",
              "<style scoped>\n",
              "    .dataframe tbody tr th:only-of-type {\n",
              "        vertical-align: middle;\n",
              "    }\n",
              "\n",
              "    .dataframe tbody tr th {\n",
              "        vertical-align: top;\n",
              "    }\n",
              "\n",
              "    .dataframe thead th {\n",
              "        text-align: right;\n",
              "    }\n",
              "</style>\n",
              "<table border=\"1\" class=\"dataframe\">\n",
              "  <thead>\n",
              "    <tr style=\"text-align: right;\">\n",
              "      <th></th>\n",
              "      <th>install_date</th>\n",
              "      <th>app_name</th>\n",
              "      <th>user_id</th>\n",
              "      <th>log_date</th>\n",
              "      <th>payment</th>\n",
              "      <th>user_type</th>\n",
              "    </tr>\n",
              "  </thead>\n",
              "  <tbody>\n",
              "    <tr>\n",
              "      <th>139290</th>\n",
              "      <td>2019-07</td>\n",
              "      <td>game-01</td>\n",
              "      <td>29326</td>\n",
              "      <td>2019-07</td>\n",
              "      <td>0.0</td>\n",
              "      <td>install</td>\n",
              "    </tr>\n",
              "    <tr>\n",
              "      <th>139291</th>\n",
              "      <td>2019-07</td>\n",
              "      <td>game-01</td>\n",
              "      <td>29327</td>\n",
              "      <td>2019-07</td>\n",
              "      <td>0.0</td>\n",
              "      <td>install</td>\n",
              "    </tr>\n",
              "    <tr>\n",
              "      <th>139292</th>\n",
              "      <td>2019-07</td>\n",
              "      <td>game-01</td>\n",
              "      <td>29328</td>\n",
              "      <td>2019-07</td>\n",
              "      <td>0.0</td>\n",
              "      <td>install</td>\n",
              "    </tr>\n",
              "    <tr>\n",
              "      <th>139293</th>\n",
              "      <td>2019-07</td>\n",
              "      <td>game-01</td>\n",
              "      <td>29329</td>\n",
              "      <td>2019-07</td>\n",
              "      <td>0.0</td>\n",
              "      <td>install</td>\n",
              "    </tr>\n",
              "    <tr>\n",
              "      <th>139294</th>\n",
              "      <td>2019-07</td>\n",
              "      <td>game-01</td>\n",
              "      <td>29330</td>\n",
              "      <td>2019-07</td>\n",
              "      <td>0.0</td>\n",
              "      <td>install</td>\n",
              "    </tr>\n",
              "  </tbody>\n",
              "</table>\n",
              "</div>"
            ],
            "text/plain": [
              "       install_date app_name  user_id log_date  payment user_type\n",
              "139290      2019-07  game-01    29326  2019-07      0.0   install\n",
              "139291      2019-07  game-01    29327  2019-07      0.0   install\n",
              "139292      2019-07  game-01    29328  2019-07      0.0   install\n",
              "139293      2019-07  game-01    29329  2019-07      0.0   install\n",
              "139294      2019-07  game-01    29330  2019-07      0.0   install"
            ]
          },
          "metadata": {
            "tags": []
          },
          "execution_count": 20
        }
      ]
    },
    {
      "cell_type": "code",
      "metadata": {
        "id": "l9Mg54mbjz2Z",
        "outputId": "ff5f31bd-f622-4cd4-e4bc-446741a5ebbc",
        "colab": {
          "base_uri": "https://localhost:8080/",
          "height": 419
        }
      },
      "source": [
        "InstallDauPayment"
      ],
      "execution_count": 22,
      "outputs": [
        {
          "output_type": "execute_result",
          "data": {
            "text/html": [
              "<div>\n",
              "<style scoped>\n",
              "    .dataframe tbody tr th:only-of-type {\n",
              "        vertical-align: middle;\n",
              "    }\n",
              "\n",
              "    .dataframe tbody tr th {\n",
              "        vertical-align: top;\n",
              "    }\n",
              "\n",
              "    .dataframe thead th {\n",
              "        text-align: right;\n",
              "    }\n",
              "</style>\n",
              "<table border=\"1\" class=\"dataframe\">\n",
              "  <thead>\n",
              "    <tr style=\"text-align: right;\">\n",
              "      <th></th>\n",
              "      <th>install_date</th>\n",
              "      <th>app_name</th>\n",
              "      <th>user_id</th>\n",
              "      <th>log_date</th>\n",
              "      <th>payment</th>\n",
              "      <th>user_type</th>\n",
              "    </tr>\n",
              "  </thead>\n",
              "  <tbody>\n",
              "    <tr>\n",
              "      <th>0</th>\n",
              "      <td>2019-04</td>\n",
              "      <td>game-01</td>\n",
              "      <td>1</td>\n",
              "      <td>2019-06</td>\n",
              "      <td>0.0</td>\n",
              "      <td>existing</td>\n",
              "    </tr>\n",
              "    <tr>\n",
              "      <th>1</th>\n",
              "      <td>2019-04</td>\n",
              "      <td>game-01</td>\n",
              "      <td>1</td>\n",
              "      <td>2019-06</td>\n",
              "      <td>0.0</td>\n",
              "      <td>existing</td>\n",
              "    </tr>\n",
              "    <tr>\n",
              "      <th>2</th>\n",
              "      <td>2019-04</td>\n",
              "      <td>game-01</td>\n",
              "      <td>1</td>\n",
              "      <td>2019-06</td>\n",
              "      <td>0.0</td>\n",
              "      <td>existing</td>\n",
              "    </tr>\n",
              "    <tr>\n",
              "      <th>3</th>\n",
              "      <td>2019-04</td>\n",
              "      <td>game-01</td>\n",
              "      <td>1</td>\n",
              "      <td>2019-06</td>\n",
              "      <td>0.0</td>\n",
              "      <td>existing</td>\n",
              "    </tr>\n",
              "    <tr>\n",
              "      <th>4</th>\n",
              "      <td>2019-04</td>\n",
              "      <td>game-01</td>\n",
              "      <td>1</td>\n",
              "      <td>2019-06</td>\n",
              "      <td>0.0</td>\n",
              "      <td>existing</td>\n",
              "    </tr>\n",
              "    <tr>\n",
              "      <th>...</th>\n",
              "      <td>...</td>\n",
              "      <td>...</td>\n",
              "      <td>...</td>\n",
              "      <td>...</td>\n",
              "      <td>...</td>\n",
              "      <td>...</td>\n",
              "    </tr>\n",
              "    <tr>\n",
              "      <th>139290</th>\n",
              "      <td>2019-07</td>\n",
              "      <td>game-01</td>\n",
              "      <td>29326</td>\n",
              "      <td>2019-07</td>\n",
              "      <td>0.0</td>\n",
              "      <td>install</td>\n",
              "    </tr>\n",
              "    <tr>\n",
              "      <th>139291</th>\n",
              "      <td>2019-07</td>\n",
              "      <td>game-01</td>\n",
              "      <td>29327</td>\n",
              "      <td>2019-07</td>\n",
              "      <td>0.0</td>\n",
              "      <td>install</td>\n",
              "    </tr>\n",
              "    <tr>\n",
              "      <th>139292</th>\n",
              "      <td>2019-07</td>\n",
              "      <td>game-01</td>\n",
              "      <td>29328</td>\n",
              "      <td>2019-07</td>\n",
              "      <td>0.0</td>\n",
              "      <td>install</td>\n",
              "    </tr>\n",
              "    <tr>\n",
              "      <th>139293</th>\n",
              "      <td>2019-07</td>\n",
              "      <td>game-01</td>\n",
              "      <td>29329</td>\n",
              "      <td>2019-07</td>\n",
              "      <td>0.0</td>\n",
              "      <td>install</td>\n",
              "    </tr>\n",
              "    <tr>\n",
              "      <th>139294</th>\n",
              "      <td>2019-07</td>\n",
              "      <td>game-01</td>\n",
              "      <td>29330</td>\n",
              "      <td>2019-07</td>\n",
              "      <td>0.0</td>\n",
              "      <td>install</td>\n",
              "    </tr>\n",
              "  </tbody>\n",
              "</table>\n",
              "<p>139295 rows × 6 columns</p>\n",
              "</div>"
            ],
            "text/plain": [
              "       install_date app_name  user_id log_date  payment user_type\n",
              "0           2019-04  game-01        1  2019-06      0.0  existing\n",
              "1           2019-04  game-01        1  2019-06      0.0  existing\n",
              "2           2019-04  game-01        1  2019-06      0.0  existing\n",
              "3           2019-04  game-01        1  2019-06      0.0  existing\n",
              "4           2019-04  game-01        1  2019-06      0.0  existing\n",
              "...             ...      ...      ...      ...      ...       ...\n",
              "139290      2019-07  game-01    29326  2019-07      0.0   install\n",
              "139291      2019-07  game-01    29327  2019-07      0.0   install\n",
              "139292      2019-07  game-01    29328  2019-07      0.0   install\n",
              "139293      2019-07  game-01    29329  2019-07      0.0   install\n",
              "139294      2019-07  game-01    29330  2019-07      0.0   install\n",
              "\n",
              "[139295 rows x 6 columns]"
            ]
          },
          "metadata": {
            "tags": []
          },
          "execution_count": 22
        }
      ]
    },
    {
      "cell_type": "code",
      "metadata": {
        "id": "MigEyXaZkDbF",
        "outputId": "9e3deba9-b035-41b6-eaf7-07e7d7a19977",
        "colab": {
          "base_uri": "https://localhost:8080/",
          "height": 298
        }
      },
      "source": [
        "sns.countplot(data=InstallDauPayment, x='log_date', hue='user_type')"
      ],
      "execution_count": 23,
      "outputs": [
        {
          "output_type": "execute_result",
          "data": {
            "text/plain": [
              "<matplotlib.axes._subplots.AxesSubplot at 0x7f33a02445f8>"
            ]
          },
          "metadata": {
            "tags": []
          },
          "execution_count": 23
        },
        {
          "output_type": "display_data",
          "data": {
            "image/png": "[encoded data removed]",
            "text/plain": [
              "<Figure size 432x288 with 1 Axes>"
            ]
          },
          "metadata": {
            "tags": [],
            "needs_background": "light"
          }
        }
      ]
    },
    {
      "cell_type": "code",
      "metadata": {
        "id": "8IECSEC2kjBW"
      },
      "source": [
        "grouped = InstallDauPayment['payment'].groupby([InstallDauPayment['log_date'], InstallDauPayment['user_type']]).sum()"
      ],
      "execution_count": 28,
      "outputs": []
    },
    {
      "cell_type": "code",
      "metadata": {
        "id": "_HNDuMD7lAzJ",
        "outputId": "ea9cf7b7-d1d9-429e-b909-e3571aa8064e",
        "colab": {
          "base_uri": "https://localhost:8080/"
        }
      },
      "source": [
        "grouped"
      ],
      "execution_count": 29,
      "outputs": [
        {
          "output_type": "execute_result",
          "data": {
            "text/plain": [
              "log_date  user_type\n",
              "2019-06   existing     1778860.0\n",
              "          install       498370.0\n",
              "2019-07   existing     1778860.0\n",
              "          install       291990.0\n",
              "Name: payment, dtype: float64"
            ]
          },
          "metadata": {
            "tags": []
          },
          "execution_count": 29
        }
      ]
    },
    {
      "cell_type": "code",
      "metadata": {
        "id": "tUhC_CitmOjW",
        "outputId": "83c72538-052d-4a7f-f408-dddb9f220c8e",
        "colab": {
          "base_uri": "https://localhost:8080/",
          "height": 455
        }
      },
      "source": [
        "grouped.unstack().plot(kind='bar', stacked=True, color=[\"c\", 'm'], grid=False, figsize=[6,6], title='Payment Graph')"
      ],
      "execution_count": 32,
      "outputs": [
        {
          "output_type": "execute_result",
          "data": {
            "text/plain": [
              "<matplotlib.axes._subplots.AxesSubplot at 0x7f339fd96fd0>"
            ]
          },
          "metadata": {
            "tags": []
          },
          "execution_count": 32
        },
        {
          "output_type": "display_data",
          "data": {
            "image/png": "[encoded data removed]",
            "text/plain": [
              "<Figure size 432x432 with 1 Axes>"
            ]
          },
          "metadata": {
            "tags": [],
            "needs_background": "light"
          }
        }
      ]
    },
    {
      "cell_type": "code",
      "metadata": {
        "id": "zT0p_s__m2iF"
      },
      "source": [
        "df = InstallDauPayment.set_index(\"user_type\")"
      ],
      "execution_count": 33,
      "outputs": []
    },
    {
      "cell_type": "code",
      "metadata": {
        "id": "CKo0_OvXJExh"
      },
      "source": [
        "df.drop('existing', inplace = True)"
      ],
      "execution_count": 35,
      "outputs": []
    },
    {
      "cell_type": "code",
      "metadata": {
        "id": "MWz7I791JIAJ"
      },
      "source": [
        "df = df.set_index('payment')"
      ],
      "execution_count": 36,
      "outputs": []
    },
    {
      "cell_type": "code",
      "metadata": {
        "id": "4wOMHx_3JQTC"
      },
      "source": [
        "df.drop(0, inplace = True)"
      ],
      "execution_count": 37,
      "outputs": []
    },
    {
      "cell_type": "code",
      "metadata": {
        "id": "zl9IhxoZJSf8"
      },
      "source": [
        "df = df.reset_index"
      ],
      "execution_count": 38,
      "outputs": []
    },
    {
      "cell_type": "code",
      "metadata": {
        "id": "pozw1LvKJdFB"
      },
      "source": [
        ""
      ],
      "execution_count": null,
      "outputs": []
    }
  ]
}